{
  "nbformat": 4,
  "nbformat_minor": 0,
  "metadata": {
    "colab": {
      "provenance": []
    },
    "kernelspec": {
      "name": "python3",
      "display_name": "Python 3"
    },
    "language_info": {
      "name": "python"
    }
  },
  "cells": [
    {
      "cell_type": "markdown",
      "metadata": {
        "id": "QiL44c967PI8"
      },
      "source": [
        "\n",
        "\n",
        "# Álgebra lineal, probabilidad y estadística"
      ]
    },
    {
      "cell_type": "code",
      "metadata": {
        "id": "FTP6C2F47Rs5"
      },
      "source": [
        "import numpy as np\n",
        "import matplotlib.pyplot as plt"
      ],
      "execution_count": null,
      "outputs": []
    },
    {
      "cell_type": "code",
      "source": [
        "im = np.array(np.random.randn(5,5))"
      ],
      "metadata": {
        "id": "-Ex26P9k-Ma4"
      },
      "execution_count": null,
      "outputs": []
    },
    {
      "cell_type": "code",
      "source": [
        "im"
      ],
      "metadata": {
        "colab": {
          "base_uri": "https://localhost:8080/"
        },
        "id": "z4Ba18do7OhW",
        "outputId": "39eb7d5f-4a68-448e-8479-10d54836a937"
      },
      "execution_count": null,
      "outputs": [
        {
          "output_type": "execute_result",
          "data": {
            "text/plain": [
              "array([[-1.01766322,  0.51742361,  1.52138758,  0.61542376,  0.31126005],\n",
              "       [ 1.20992775, -0.28423689, -0.71159694, -0.17510194, -0.77756625],\n",
              "       [ 2.34454672, -0.92760986, -0.37313442,  0.67996761,  1.2593424 ],\n",
              "       [-0.3083086 ,  1.92535499,  1.05958613,  0.08053647,  0.18690919],\n",
              "       [-0.94362749,  0.01641237,  0.75331036, -0.2598402 , -1.43002597]])"
            ]
          },
          "metadata": {},
          "execution_count": 32
        }
      ]
    },
    {
      "cell_type": "code",
      "source": [
        "plt.imshow(im, cmap='Blues')"
      ],
      "metadata": {
        "colab": {
          "base_uri": "https://localhost:8080/",
          "height": 282
        },
        "id": "qz6r0b0a7_Am",
        "outputId": "ca5c7a30-b7e0-4fc5-fda9-7c26e7578522"
      },
      "execution_count": 214,
      "outputs": [
        {
          "output_type": "execute_result",
          "data": {
            "text/plain": [
              "<matplotlib.image.AxesImage at 0x7f76ca11e970>"
            ]
          },
          "metadata": {},
          "execution_count": 214
        },
        {
          "output_type": "display_data",
          "data": {
            "text/plain": [
              "<Figure size 432x288 with 1 Axes>"
            ],
            "image/png": "[encoded data removed]"
          },
          "metadata": {
            "needs_background": "light"
          }
        }
      ]
    },
    {
      "cell_type": "code",
      "source": [
        "paint = np.array([[0, 0, 0, 15, 15, 0, 0, 0],\n",
        "                  [0, 15, 25, 0, 0, 15, 0, 0],\n",
        "                  [0, 25, 15, 0, 0, 15, 25, 0],\n",
        "                  [0, 25, 15, 0, 0, 15, 25, 0],\n",
        "                  [0, 25, 15, 0, 0, 15, 25, 0],\n",
        "                  [0, 25, 15, 0, 0, 15, 25, 0],\n",
        "                  [0, 15, 25, 0, 0, 25, 15, 0],\n",
        "                  [0, 0, 0, 25, 25, 25, 0, 0]])"
      ],
      "metadata": {
        "id": "xRaG2idG8L02"
      },
      "execution_count": null,
      "outputs": []
    },
    {
      "cell_type": "code",
      "source": [
        "plt.imshow(paint, cmap='gray')"
      ],
      "metadata": {
        "colab": {
          "base_uri": "https://localhost:8080/",
          "height": 282
        },
        "id": "RCVrOAxL8Upx",
        "outputId": "36ccd8ac-500d-40c9-bb53-f5cf5eea114f"
      },
      "execution_count": 216,
      "outputs": [
        {
          "output_type": "execute_result",
          "data": {
            "text/plain": [
              "<matplotlib.image.AxesImage at 0x7f76c9de9610>"
            ]
          },
          "metadata": {},
          "execution_count": 216
        },
        {
          "output_type": "display_data",
          "data": {
            "text/plain": [
              "<Figure size 432x288 with 1 Axes>"
            ],
            "image/png": "[encoded data removed]"
          },
          "metadata": {
            "needs_background": "light"
          }
        }
      ]
    },
    {
      "cell_type": "code",
      "metadata": {
        "id": "_tUpYe7f7cBi"
      },
      "source": [
        "vec1 = np.array([2,3,4,5])\n",
        "vec2 = np.array([1,2,3,4])"
      ],
      "execution_count": null,
      "outputs": []
    },
    {
      "cell_type": "code",
      "source": [
        "vec1, vec2"
      ],
      "metadata": {
        "colab": {
          "base_uri": "https://localhost:8080/"
        },
        "id": "Kk14W17UVWHd",
        "outputId": "1a3d8ca6-15b6-4fd4-d454-7930dc98c6e8"
      },
      "execution_count": null,
      "outputs": [
        {
          "output_type": "execute_result",
          "data": {
            "text/plain": [
              "(array([2, 3, 4, 5]), array([1, 2, 3, 4]))"
            ]
          },
          "metadata": {},
          "execution_count": 37
        }
      ]
    },
    {
      "cell_type": "code",
      "metadata": {
        "colab": {
          "base_uri": "https://localhost:8080/"
        },
        "id": "7tavm0IQ81cZ",
        "outputId": "3e005583-a81b-4df2-b1c9-569d00e8bd68"
      },
      "source": [
        "vec1.shape #tamaño"
      ],
      "execution_count": null,
      "outputs": [
        {
          "output_type": "execute_result",
          "data": {
            "text/plain": [
              "(4,)"
            ]
          },
          "metadata": {},
          "execution_count": 38
        }
      ]
    },
    {
      "cell_type": "code",
      "metadata": {
        "colab": {
          "base_uri": "https://localhost:8080/"
        },
        "id": "ktwQX9iQ85mG",
        "outputId": "7fd293ca-fc1f-49cd-ebde-2d936f61c276"
      },
      "source": [
        "vec1.size #número de elementos"
      ],
      "execution_count": null,
      "outputs": [
        {
          "output_type": "execute_result",
          "data": {
            "text/plain": [
              "4"
            ]
          },
          "metadata": {},
          "execution_count": 39
        }
      ]
    },
    {
      "cell_type": "code",
      "metadata": {
        "colab": {
          "base_uri": "https://localhost:8080/"
        },
        "id": "e8AvJUUT9BEq",
        "outputId": "ce653dce-a673-4182-dfcf-fb7dfac6cadf"
      },
      "source": [
        "vec1.ndim"
      ],
      "execution_count": null,
      "outputs": [
        {
          "output_type": "execute_result",
          "data": {
            "text/plain": [
              "1"
            ]
          },
          "metadata": {},
          "execution_count": 40
        }
      ]
    },
    {
      "cell_type": "code",
      "metadata": {
        "colab": {
          "base_uri": "https://localhost:8080/"
        },
        "id": "1433IMg2-iNJ",
        "outputId": "869bff40-7e14-4403-e191-8ddb48548b41"
      },
      "source": [
        "vec1.dtype"
      ],
      "execution_count": null,
      "outputs": [
        {
          "output_type": "execute_result",
          "data": {
            "text/plain": [
              "dtype('int64')"
            ]
          },
          "metadata": {},
          "execution_count": 41
        }
      ]
    },
    {
      "cell_type": "code",
      "metadata": {
        "colab": {
          "base_uri": "https://localhost:8080/"
        },
        "id": "Gujf2laM-nO9",
        "outputId": "cdbaeab0-ca32-4eae-a817-db562c7d940f"
      },
      "source": [
        "vec1[0], vec1[3], vec2[1]"
      ],
      "execution_count": null,
      "outputs": [
        {
          "output_type": "execute_result",
          "data": {
            "text/plain": [
              "(2, 5, 2)"
            ]
          },
          "metadata": {},
          "execution_count": 42
        }
      ]
    },
    {
      "cell_type": "code",
      "metadata": {
        "colab": {
          "base_uri": "https://localhost:8080/"
        },
        "id": "yelJGxIC_DXj",
        "outputId": "b2ba1121-c4fa-42c5-b2d9-d23256507c67"
      },
      "source": [
        "vec1[0:2:1] #punto de partida, punto de llegada, stepsize"
      ],
      "execution_count": null,
      "outputs": [
        {
          "output_type": "execute_result",
          "data": {
            "text/plain": [
              "array([2, 3])"
            ]
          },
          "metadata": {},
          "execution_count": 43
        }
      ]
    },
    {
      "cell_type": "code",
      "metadata": {
        "colab": {
          "base_uri": "https://localhost:8080/"
        },
        "id": "kHWJohCo_KVe",
        "outputId": "d0760a98-ee64-4aa1-90c7-0306a947496e"
      },
      "source": [
        "vec1[::-1]"
      ],
      "execution_count": null,
      "outputs": [
        {
          "output_type": "execute_result",
          "data": {
            "text/plain": [
              "array([5, 4, 3, 2])"
            ]
          },
          "metadata": {},
          "execution_count": 44
        }
      ]
    },
    {
      "cell_type": "code",
      "source": [
        "vec1"
      ],
      "metadata": {
        "colab": {
          "base_uri": "https://localhost:8080/"
        },
        "id": "9GgFNN_AW6QT",
        "outputId": "f0966811-0131-43b1-ae2a-5b00f4dc68ce"
      },
      "execution_count": null,
      "outputs": [
        {
          "output_type": "execute_result",
          "data": {
            "text/plain": [
              "array([2, 3, 4, 5])"
            ]
          },
          "metadata": {},
          "execution_count": 45
        }
      ]
    },
    {
      "cell_type": "code",
      "metadata": {
        "colab": {
          "base_uri": "https://localhost:8080/"
        },
        "id": "PkHLNNZX_XUt",
        "outputId": "2aaa1bc0-94a8-4aad-f1ae-224354c228e3"
      },
      "source": [
        "vec1 + 5"
      ],
      "execution_count": null,
      "outputs": [
        {
          "output_type": "execute_result",
          "data": {
            "text/plain": [
              "array([ 7,  8,  9, 10])"
            ]
          },
          "metadata": {},
          "execution_count": 46
        }
      ]
    },
    {
      "cell_type": "code",
      "metadata": {
        "colab": {
          "base_uri": "https://localhost:8080/"
        },
        "id": "UAKEurtq_fup",
        "outputId": "aed04c6e-703e-40eb-b4e9-9cee30c1b09c"
      },
      "source": [
        "vec1 * 3"
      ],
      "execution_count": null,
      "outputs": [
        {
          "output_type": "execute_result",
          "data": {
            "text/plain": [
              "array([ 6,  9, 12, 15])"
            ]
          },
          "metadata": {},
          "execution_count": 47
        }
      ]
    },
    {
      "cell_type": "code",
      "metadata": {
        "colab": {
          "base_uri": "https://localhost:8080/"
        },
        "id": "OxAQye6u_hl-",
        "outputId": "9e5518b1-6c54-4010-e604-b5a245fe0d8d"
      },
      "source": [
        "vec1 / 4"
      ],
      "execution_count": null,
      "outputs": [
        {
          "output_type": "execute_result",
          "data": {
            "text/plain": [
              "array([0.5 , 0.75, 1.  , 1.25])"
            ]
          },
          "metadata": {},
          "execution_count": 48
        }
      ]
    },
    {
      "cell_type": "code",
      "metadata": {
        "colab": {
          "base_uri": "https://localhost:8080/"
        },
        "id": "8mnp4uEz_kTh",
        "outputId": "747c2028-ba72-406d-aa88-389108774cd2"
      },
      "source": [
        "vec1 % 2"
      ],
      "execution_count": null,
      "outputs": [
        {
          "output_type": "execute_result",
          "data": {
            "text/plain": [
              "array([0, 1, 0, 1])"
            ]
          },
          "metadata": {},
          "execution_count": 49
        }
      ]
    },
    {
      "cell_type": "code",
      "metadata": {
        "colab": {
          "base_uri": "https://localhost:8080/"
        },
        "id": "7lznkdEm_lVK",
        "outputId": "453ef410-ae3f-4945-dcc2-982d37345f07"
      },
      "source": [
        "vec1 ** 2"
      ],
      "execution_count": null,
      "outputs": [
        {
          "output_type": "execute_result",
          "data": {
            "text/plain": [
              "array([ 4,  9, 16, 25])"
            ]
          },
          "metadata": {},
          "execution_count": 50
        }
      ]
    },
    {
      "cell_type": "code",
      "source": [
        "vec1"
      ],
      "metadata": {
        "colab": {
          "base_uri": "https://localhost:8080/"
        },
        "id": "Oh9fQo_7XK1I",
        "outputId": "100eb5bf-9aab-4d66-a782-41c44c4dfe21"
      },
      "execution_count": null,
      "outputs": [
        {
          "output_type": "execute_result",
          "data": {
            "text/plain": [
              "array([2, 3, 4, 5])"
            ]
          },
          "metadata": {},
          "execution_count": 51
        }
      ]
    },
    {
      "cell_type": "code",
      "metadata": {
        "id": "6as8jEs1_m31"
      },
      "source": [
        "vec1[1] = vec1[1] * 2"
      ],
      "execution_count": null,
      "outputs": []
    },
    {
      "cell_type": "code",
      "metadata": {
        "colab": {
          "base_uri": "https://localhost:8080/"
        },
        "id": "wQi9jKsq_0BG",
        "outputId": "97321ea2-7428-40f2-f292-98511e8e5e0c"
      },
      "source": [
        "vec1"
      ],
      "execution_count": null,
      "outputs": [
        {
          "output_type": "execute_result",
          "data": {
            "text/plain": [
              "array([2, 6, 4, 5])"
            ]
          },
          "metadata": {},
          "execution_count": 53
        }
      ]
    },
    {
      "cell_type": "code",
      "metadata": {
        "colab": {
          "base_uri": "https://localhost:8080/"
        },
        "id": "Wy2-wabN_6XO",
        "outputId": "8099ef2b-ce5b-4fd6-bbfd-e37410c68dc2"
      },
      "source": [
        "vec1 + vec2"
      ],
      "execution_count": null,
      "outputs": [
        {
          "output_type": "execute_result",
          "data": {
            "text/plain": [
              "array([3, 8, 7, 9])"
            ]
          },
          "metadata": {},
          "execution_count": 54
        }
      ]
    },
    {
      "cell_type": "code",
      "metadata": {
        "colab": {
          "base_uri": "https://localhost:8080/"
        },
        "id": "7FWYM3h0AL5F",
        "outputId": "b8f8b4b8-e545-4c93-9cfa-537ad6c7c2c2"
      },
      "source": [
        "vec1 * vec2"
      ],
      "execution_count": null,
      "outputs": [
        {
          "output_type": "execute_result",
          "data": {
            "text/plain": [
              "array([ 2, 12, 12, 20])"
            ]
          },
          "metadata": {},
          "execution_count": 55
        }
      ]
    },
    {
      "cell_type": "code",
      "metadata": {
        "colab": {
          "base_uri": "https://localhost:8080/"
        },
        "id": "wzAxlyLpAOu6",
        "outputId": "e34bcf3f-321a-44b0-9d20-c333dbf6c570"
      },
      "source": [
        "vec1 ** vec2"
      ],
      "execution_count": null,
      "outputs": [
        {
          "output_type": "execute_result",
          "data": {
            "text/plain": [
              "array([  2,  36,  64, 625])"
            ]
          },
          "metadata": {},
          "execution_count": 56
        }
      ]
    },
    {
      "cell_type": "code",
      "metadata": {
        "colab": {
          "base_uri": "https://localhost:8080/"
        },
        "id": "YS2Ngs9RAP09",
        "outputId": "25e54e04-c46a-466a-a3ad-0f30657833c5"
      },
      "source": [
        "vec1 - vec2"
      ],
      "execution_count": null,
      "outputs": [
        {
          "output_type": "execute_result",
          "data": {
            "text/plain": [
              "array([1, 4, 1, 1])"
            ]
          },
          "metadata": {},
          "execution_count": 57
        }
      ]
    },
    {
      "cell_type": "code",
      "metadata": {
        "id": "rRQ3GkZFARla"
      },
      "source": [
        "M = np.array([[1,2],\n",
        "              [3,4]])"
      ],
      "execution_count": null,
      "outputs": []
    },
    {
      "cell_type": "code",
      "metadata": {
        "colab": {
          "base_uri": "https://localhost:8080/"
        },
        "id": "2YvsYi72AcUC",
        "outputId": "c8ae3d68-2e8a-4a15-cca6-aa38071540b4"
      },
      "source": [
        "M"
      ],
      "execution_count": null,
      "outputs": [
        {
          "output_type": "execute_result",
          "data": {
            "text/plain": [
              "array([[1, 2],\n",
              "       [3, 4]])"
            ]
          },
          "metadata": {},
          "execution_count": 59
        }
      ]
    },
    {
      "cell_type": "code",
      "metadata": {
        "colab": {
          "base_uri": "https://localhost:8080/"
        },
        "id": "XNOUEIz4Ac9S",
        "outputId": "c6071912-2205-41d6-a15b-92a4fc8ee77a"
      },
      "source": [
        "M.shape"
      ],
      "execution_count": null,
      "outputs": [
        {
          "output_type": "execute_result",
          "data": {
            "text/plain": [
              "(2, 2)"
            ]
          },
          "metadata": {},
          "execution_count": 60
        }
      ]
    },
    {
      "cell_type": "code",
      "metadata": {
        "colab": {
          "base_uri": "https://localhost:8080/"
        },
        "id": "yLXPKZX7Ae7V",
        "outputId": "52db1082-d050-489b-89c4-5089a3a84a41"
      },
      "source": [
        "M.size"
      ],
      "execution_count": null,
      "outputs": [
        {
          "output_type": "execute_result",
          "data": {
            "text/plain": [
              "4"
            ]
          },
          "metadata": {},
          "execution_count": 61
        }
      ]
    },
    {
      "cell_type": "code",
      "metadata": {
        "colab": {
          "base_uri": "https://localhost:8080/"
        },
        "id": "V9Tjbf-8Akcn",
        "outputId": "3dec5baa-d5d3-44de-9a03-8ad596ecb336"
      },
      "source": [
        "M.ndim"
      ],
      "execution_count": null,
      "outputs": [
        {
          "output_type": "execute_result",
          "data": {
            "text/plain": [
              "2"
            ]
          },
          "metadata": {},
          "execution_count": 62
        }
      ]
    },
    {
      "cell_type": "code",
      "metadata": {
        "colab": {
          "base_uri": "https://localhost:8080/"
        },
        "id": "e5rcIUCHBBDZ",
        "outputId": "99808127-272e-4510-a35f-a77eb86209bf"
      },
      "source": [
        "M"
      ],
      "execution_count": null,
      "outputs": [
        {
          "output_type": "execute_result",
          "data": {
            "text/plain": [
              "array([[1, 2],\n",
              "       [3, 4]])"
            ]
          },
          "metadata": {},
          "execution_count": 63
        }
      ]
    },
    {
      "cell_type": "code",
      "metadata": {
        "colab": {
          "base_uri": "https://localhost:8080/"
        },
        "id": "NqJw7PdeBfFU",
        "outputId": "58d2bbf0-3526-4bbd-be13-efce5387e84e"
      },
      "source": [
        "M[0,0]"
      ],
      "execution_count": null,
      "outputs": [
        {
          "output_type": "execute_result",
          "data": {
            "text/plain": [
              "1"
            ]
          },
          "metadata": {},
          "execution_count": 64
        }
      ]
    },
    {
      "cell_type": "code",
      "metadata": {
        "colab": {
          "base_uri": "https://localhost:8080/"
        },
        "id": "UDsrJ4u-BgTT",
        "outputId": "be3ddd00-e69d-4d88-c90f-13bfdda183ec"
      },
      "source": [
        "M[1,1]"
      ],
      "execution_count": null,
      "outputs": [
        {
          "output_type": "execute_result",
          "data": {
            "text/plain": [
              "4"
            ]
          },
          "metadata": {},
          "execution_count": 65
        }
      ]
    },
    {
      "cell_type": "code",
      "metadata": {
        "id": "7U2i_rr-Bn92"
      },
      "source": [
        "A = np.array([[1,2,3,3],\n",
        "              [4,5,6,6],\n",
        "              [7,8,9,6],\n",
        "              [2,3,4,5]])"
      ],
      "execution_count": null,
      "outputs": []
    },
    {
      "cell_type": "code",
      "metadata": {
        "colab": {
          "base_uri": "https://localhost:8080/"
        },
        "id": "hZrno_8OBzAN",
        "outputId": "458d7689-4ddd-485e-a3a3-7b0c183df695"
      },
      "source": [
        "A.shape"
      ],
      "execution_count": null,
      "outputs": [
        {
          "output_type": "execute_result",
          "data": {
            "text/plain": [
              "(4, 4)"
            ]
          },
          "metadata": {},
          "execution_count": 67
        }
      ]
    },
    {
      "cell_type": "code",
      "metadata": {
        "id": "9E1z6I7hBzy0"
      },
      "source": [
        "B = A[0:2,0:2]"
      ],
      "execution_count": null,
      "outputs": []
    },
    {
      "cell_type": "code",
      "metadata": {
        "colab": {
          "base_uri": "https://localhost:8080/"
        },
        "id": "NX7Z3Q1uCwZ_",
        "outputId": "22441975-d6d8-49a3-9bba-c311d332f499"
      },
      "source": [
        "B"
      ],
      "execution_count": null,
      "outputs": [
        {
          "output_type": "execute_result",
          "data": {
            "text/plain": [
              "array([[1, 2],\n",
              "       [4, 5]])"
            ]
          },
          "metadata": {},
          "execution_count": 69
        }
      ]
    },
    {
      "cell_type": "code",
      "metadata": {
        "colab": {
          "base_uri": "https://localhost:8080/"
        },
        "id": "WOxJ7bGaB_OA",
        "outputId": "7c67e24e-40a5-45c2-e472-3d5e05ae58cd"
      },
      "source": [
        "A[::2,::2]"
      ],
      "execution_count": null,
      "outputs": [
        {
          "output_type": "execute_result",
          "data": {
            "text/plain": [
              "array([[1, 3],\n",
              "       [7, 9]])"
            ]
          },
          "metadata": {},
          "execution_count": 70
        }
      ]
    },
    {
      "cell_type": "code",
      "metadata": {
        "colab": {
          "base_uri": "https://localhost:8080/"
        },
        "id": "xbPwXkFsCeJm",
        "outputId": "864ba8fe-ba08-4015-8958-6b2e37f58606"
      },
      "source": [
        "A[1::2,1::2]"
      ],
      "execution_count": null,
      "outputs": [
        {
          "output_type": "execute_result",
          "data": {
            "text/plain": [
              "array([[5, 6],\n",
              "       [3, 5]])"
            ]
          },
          "metadata": {},
          "execution_count": 71
        }
      ]
    },
    {
      "cell_type": "code",
      "metadata": {
        "colab": {
          "base_uri": "https://localhost:8080/"
        },
        "id": "OAiCsEp6DHSo",
        "outputId": "d097fd11-6802-4969-c29f-0dad686bedc4"
      },
      "source": [
        "M"
      ],
      "execution_count": null,
      "outputs": [
        {
          "output_type": "execute_result",
          "data": {
            "text/plain": [
              "array([[1, 2],\n",
              "       [3, 4]])"
            ]
          },
          "metadata": {},
          "execution_count": 72
        }
      ]
    },
    {
      "cell_type": "code",
      "metadata": {
        "colab": {
          "base_uri": "https://localhost:8080/"
        },
        "id": "FjyXB-xnDR1p",
        "outputId": "51a4b05e-615c-493f-8a72-07dc26e25361"
      },
      "source": [
        "M * 2"
      ],
      "execution_count": null,
      "outputs": [
        {
          "output_type": "execute_result",
          "data": {
            "text/plain": [
              "array([[2, 4],\n",
              "       [6, 8]])"
            ]
          },
          "metadata": {},
          "execution_count": 73
        }
      ]
    },
    {
      "cell_type": "code",
      "metadata": {
        "colab": {
          "base_uri": "https://localhost:8080/"
        },
        "id": "lF9ygPPvDS4t",
        "outputId": "1442ff9e-42b8-4e19-d318-ab5b01aade1e"
      },
      "source": [
        "M - 2"
      ],
      "execution_count": null,
      "outputs": [
        {
          "output_type": "execute_result",
          "data": {
            "text/plain": [
              "array([[-1,  0],\n",
              "       [ 1,  2]])"
            ]
          },
          "metadata": {},
          "execution_count": 74
        }
      ]
    },
    {
      "cell_type": "code",
      "metadata": {
        "colab": {
          "base_uri": "https://localhost:8080/"
        },
        "id": "leLHyoCdDU55",
        "outputId": "7dcbc7ac-56fb-4bbe-8c08-2704c4dd39e6"
      },
      "source": [
        "M + 2"
      ],
      "execution_count": null,
      "outputs": [
        {
          "output_type": "execute_result",
          "data": {
            "text/plain": [
              "array([[3, 4],\n",
              "       [5, 6]])"
            ]
          },
          "metadata": {},
          "execution_count": 75
        }
      ]
    },
    {
      "cell_type": "code",
      "metadata": {
        "colab": {
          "base_uri": "https://localhost:8080/"
        },
        "id": "HNH1pKwNDV8I",
        "outputId": "833f45a5-45fd-4738-c187-8b095835368f"
      },
      "source": [
        "M ** 2"
      ],
      "execution_count": null,
      "outputs": [
        {
          "output_type": "execute_result",
          "data": {
            "text/plain": [
              "array([[ 1,  4],\n",
              "       [ 9, 16]])"
            ]
          },
          "metadata": {},
          "execution_count": 76
        }
      ]
    },
    {
      "cell_type": "code",
      "metadata": {
        "colab": {
          "base_uri": "https://localhost:8080/"
        },
        "id": "IvwmmIS1DW77",
        "outputId": "1f133527-b7dc-4c5b-f63a-f79bfa992dcd"
      },
      "source": [
        "M % 2"
      ],
      "execution_count": null,
      "outputs": [
        {
          "output_type": "execute_result",
          "data": {
            "text/plain": [
              "array([[1, 0],\n",
              "       [1, 0]])"
            ]
          },
          "metadata": {},
          "execution_count": 77
        }
      ]
    },
    {
      "cell_type": "code",
      "metadata": {
        "colab": {
          "base_uri": "https://localhost:8080/"
        },
        "id": "zNXgaOq-DYnx",
        "outputId": "f26c6352-85a1-47fe-f26d-79fb4ee14daf"
      },
      "source": [
        "M * M"
      ],
      "execution_count": null,
      "outputs": [
        {
          "output_type": "execute_result",
          "data": {
            "text/plain": [
              "array([[ 1,  4],\n",
              "       [ 9, 16]])"
            ]
          },
          "metadata": {},
          "execution_count": 78
        }
      ]
    },
    {
      "cell_type": "code",
      "source": [
        "M"
      ],
      "metadata": {
        "colab": {
          "base_uri": "https://localhost:8080/"
        },
        "id": "1wuCDDN6ZrN2",
        "outputId": "760f0936-270b-44b6-a19f-16feabbe0d70"
      },
      "execution_count": null,
      "outputs": [
        {
          "output_type": "execute_result",
          "data": {
            "text/plain": [
              "array([[1, 2],\n",
              "       [3, 4]])"
            ]
          },
          "metadata": {},
          "execution_count": 79
        }
      ]
    },
    {
      "cell_type": "code",
      "metadata": {
        "colab": {
          "base_uri": "https://localhost:8080/"
        },
        "id": "4hrCrADaDc3L",
        "outputId": "9bda5ad0-1fb5-4313-c04c-e94337c2728d"
      },
      "source": [
        "M @ M"
      ],
      "execution_count": null,
      "outputs": [
        {
          "output_type": "execute_result",
          "data": {
            "text/plain": [
              "array([[ 7, 10],\n",
              "       [15, 22]])"
            ]
          },
          "metadata": {},
          "execution_count": 80
        }
      ]
    },
    {
      "cell_type": "code",
      "metadata": {
        "colab": {
          "base_uri": "https://localhost:8080/"
        },
        "id": "OOKXwpmvDj_X",
        "outputId": "760781ac-d198-4092-f739-e05e6ef2639b"
      },
      "source": [
        "M.dot(M)"
      ],
      "execution_count": null,
      "outputs": [
        {
          "output_type": "execute_result",
          "data": {
            "text/plain": [
              "array([[ 7, 10],\n",
              "       [15, 22]])"
            ]
          },
          "metadata": {},
          "execution_count": 81
        }
      ]
    },
    {
      "cell_type": "code",
      "metadata": {
        "colab": {
          "base_uri": "https://localhost:8080/"
        },
        "id": "JqjqFm9jDo4d",
        "outputId": "87fd87d6-e66a-4d4a-ee15-1c4af93155bb"
      },
      "source": [
        "np.dot(M,M)"
      ],
      "execution_count": null,
      "outputs": [
        {
          "output_type": "execute_result",
          "data": {
            "text/plain": [
              "array([[ 7, 10],\n",
              "       [15, 22]])"
            ]
          },
          "metadata": {},
          "execution_count": 82
        }
      ]
    },
    {
      "cell_type": "code",
      "metadata": {
        "colab": {
          "base_uri": "https://localhost:8080/",
          "height": 169
        },
        "id": "K1i0qzm2Dsy0",
        "outputId": "fe0acfe0-a87f-4ea2-f479-eda77538639b"
      },
      "source": [
        "A + M"
      ],
      "execution_count": null,
      "outputs": [
        {
          "output_type": "error",
          "ename": "ValueError",
          "evalue": "ignored",
          "traceback": [
            "\u001b[0;31m---------------------------------------------------------------------------\u001b[0m",
            "\u001b[0;31mValueError\u001b[0m                                Traceback (most recent call last)",
            "\u001b[0;32m<ipython-input-83-a2c404e3d396>\u001b[0m in \u001b[0;36m<module>\u001b[0;34m\u001b[0m\n\u001b[0;32m----> 1\u001b[0;31m \u001b[0mA\u001b[0m \u001b[0;34m+\u001b[0m \u001b[0mM\u001b[0m\u001b[0;34m\u001b[0m\u001b[0;34m\u001b[0m\u001b[0m\n\u001b[0m",
            "\u001b[0;31mValueError\u001b[0m: operands could not be broadcast together with shapes (4,4) (2,2) "
          ]
        }
      ]
    },
    {
      "cell_type": "code",
      "metadata": {
        "colab": {
          "base_uri": "https://localhost:8080/",
          "height": 169
        },
        "id": "NKzUdggdETrI",
        "outputId": "beb429bd-2b7f-4bfa-fd2f-8b728e98ecd5"
      },
      "source": [
        "M.dot(A)"
      ],
      "execution_count": null,
      "outputs": [
        {
          "output_type": "error",
          "ename": "ValueError",
          "evalue": "ignored",
          "traceback": [
            "\u001b[0;31m---------------------------------------------------------------------------\u001b[0m",
            "\u001b[0;31mValueError\u001b[0m                                Traceback (most recent call last)",
            "\u001b[0;32m<ipython-input-84-a4d1b0845790>\u001b[0m in \u001b[0;36m<module>\u001b[0;34m\u001b[0m\n\u001b[0;32m----> 1\u001b[0;31m \u001b[0mM\u001b[0m\u001b[0;34m.\u001b[0m\u001b[0mdot\u001b[0m\u001b[0;34m(\u001b[0m\u001b[0mA\u001b[0m\u001b[0;34m)\u001b[0m\u001b[0;34m\u001b[0m\u001b[0;34m\u001b[0m\u001b[0m\n\u001b[0m",
            "\u001b[0;31mValueError\u001b[0m: shapes (2,2) and (4,4) not aligned: 2 (dim 1) != 4 (dim 0)"
          ]
        }
      ]
    },
    {
      "cell_type": "code",
      "metadata": {
        "colab": {
          "base_uri": "https://localhost:8080/"
        },
        "id": "S4sEicuqEYs-",
        "outputId": "4a721a7f-b5f2-42e9-fae5-d2ebe57b8973"
      },
      "source": [
        "M.T"
      ],
      "execution_count": null,
      "outputs": [
        {
          "output_type": "execute_result",
          "data": {
            "text/plain": [
              "array([[1, 3],\n",
              "       [2, 4]])"
            ]
          },
          "metadata": {},
          "execution_count": 85
        }
      ]
    },
    {
      "cell_type": "code",
      "source": [
        "M.transpose()"
      ],
      "metadata": {
        "colab": {
          "base_uri": "https://localhost:8080/"
        },
        "id": "gWmT1YpYaFJC",
        "outputId": "b46bb830-efb0-4480-da71-80d6b947f313"
      },
      "execution_count": null,
      "outputs": [
        {
          "output_type": "execute_result",
          "data": {
            "text/plain": [
              "array([[1, 3],\n",
              "       [2, 4]])"
            ]
          },
          "metadata": {},
          "execution_count": 86
        }
      ]
    },
    {
      "cell_type": "code",
      "metadata": {
        "colab": {
          "base_uri": "https://localhost:8080/"
        },
        "id": "-UkVjOZ3GI-m",
        "outputId": "63648a7a-c94d-413f-d9ff-ecc4acbda3bb"
      },
      "source": [
        "np.eye(3)"
      ],
      "execution_count": null,
      "outputs": [
        {
          "output_type": "execute_result",
          "data": {
            "text/plain": [
              "array([[1., 0., 0.],\n",
              "       [0., 1., 0.],\n",
              "       [0., 0., 1.]])"
            ]
          },
          "metadata": {},
          "execution_count": 87
        }
      ]
    },
    {
      "cell_type": "markdown",
      "metadata": {
        "id": "ECmjyncjGO0D"
      },
      "source": [
        "### Generando vectores"
      ]
    },
    {
      "cell_type": "code",
      "metadata": {
        "colab": {
          "base_uri": "https://localhost:8080/"
        },
        "id": "xMkQrUNqGLJz",
        "outputId": "b0a7d1f5-c112-493c-d968-6eaca6bf7bab"
      },
      "source": [
        "np.zeros((3,4), dtype='int32')"
      ],
      "execution_count": null,
      "outputs": [
        {
          "output_type": "execute_result",
          "data": {
            "text/plain": [
              "array([[0, 0, 0, 0],\n",
              "       [0, 0, 0, 0],\n",
              "       [0, 0, 0, 0]], dtype=int32)"
            ]
          },
          "metadata": {},
          "execution_count": 88
        }
      ]
    },
    {
      "cell_type": "code",
      "metadata": {
        "colab": {
          "base_uri": "https://localhost:8080/"
        },
        "id": "mZ8DWpKZGXi_",
        "outputId": "f9c318cd-de78-4e32-af21-2d99fdaa4e28"
      },
      "source": [
        "np.ones(10)"
      ],
      "execution_count": null,
      "outputs": [
        {
          "output_type": "execute_result",
          "data": {
            "text/plain": [
              "array([1., 1., 1., 1., 1., 1., 1., 1., 1., 1.])"
            ]
          },
          "metadata": {},
          "execution_count": 89
        }
      ]
    },
    {
      "cell_type": "code",
      "metadata": {
        "colab": {
          "base_uri": "https://localhost:8080/"
        },
        "id": "DS6DJQWHGn2R",
        "outputId": "faa3982b-ca44-41ee-c240-e5f79655075c"
      },
      "source": [
        "np.full((5,5), 15)"
      ],
      "execution_count": null,
      "outputs": [
        {
          "output_type": "execute_result",
          "data": {
            "text/plain": [
              "array([[15, 15, 15, 15, 15],\n",
              "       [15, 15, 15, 15, 15],\n",
              "       [15, 15, 15, 15, 15],\n",
              "       [15, 15, 15, 15, 15],\n",
              "       [15, 15, 15, 15, 15]])"
            ]
          },
          "metadata": {},
          "execution_count": 90
        }
      ]
    },
    {
      "cell_type": "code",
      "metadata": {
        "colab": {
          "base_uri": "https://localhost:8080/"
        },
        "id": "O50uUdePGtDh",
        "outputId": "d54d4ccc-d196-49d1-eef1-5e2a312675e4"
      },
      "source": [
        "np.full((5,5), 'hola')"
      ],
      "execution_count": null,
      "outputs": [
        {
          "output_type": "execute_result",
          "data": {
            "text/plain": [
              "array([['hola', 'hola', 'hola', 'hola', 'hola'],\n",
              "       ['hola', 'hola', 'hola', 'hola', 'hola'],\n",
              "       ['hola', 'hola', 'hola', 'hola', 'hola'],\n",
              "       ['hola', 'hola', 'hola', 'hola', 'hola'],\n",
              "       ['hola', 'hola', 'hola', 'hola', 'hola']], dtype='<U4')"
            ]
          },
          "metadata": {},
          "execution_count": 91
        }
      ]
    },
    {
      "cell_type": "code",
      "metadata": {
        "colab": {
          "base_uri": "https://localhost:8080/"
        },
        "id": "spcm_3xXGwlt",
        "outputId": "3be673d0-c5b0-4e9a-cf43-37a7c977e0e4"
      },
      "source": [
        "np.diag([1,2,3,4,5,6,7,8,9])"
      ],
      "execution_count": null,
      "outputs": [
        {
          "output_type": "execute_result",
          "data": {
            "text/plain": [
              "array([[1, 0, 0, 0, 0, 0, 0, 0, 0],\n",
              "       [0, 2, 0, 0, 0, 0, 0, 0, 0],\n",
              "       [0, 0, 3, 0, 0, 0, 0, 0, 0],\n",
              "       [0, 0, 0, 4, 0, 0, 0, 0, 0],\n",
              "       [0, 0, 0, 0, 5, 0, 0, 0, 0],\n",
              "       [0, 0, 0, 0, 0, 6, 0, 0, 0],\n",
              "       [0, 0, 0, 0, 0, 0, 7, 0, 0],\n",
              "       [0, 0, 0, 0, 0, 0, 0, 8, 0],\n",
              "       [0, 0, 0, 0, 0, 0, 0, 0, 9]])"
            ]
          },
          "metadata": {},
          "execution_count": 92
        }
      ]
    },
    {
      "cell_type": "code",
      "metadata": {
        "colab": {
          "base_uri": "https://localhost:8080/"
        },
        "id": "ocw5MqTmG5ha",
        "outputId": "7c8b44dd-5a44-49ab-f895-81b00a903d04"
      },
      "source": [
        "np.arange(-10,10,0.01) #punto de partida, punto de llegada, stepsize "
      ],
      "execution_count": null,
      "outputs": [
        {
          "output_type": "execute_result",
          "data": {
            "text/plain": [
              "array([-10.  ,  -9.99,  -9.98, ...,   9.97,   9.98,   9.99])"
            ]
          },
          "metadata": {},
          "execution_count": 93
        }
      ]
    },
    {
      "cell_type": "code",
      "metadata": {
        "id": "DzR4KYqkHAXh",
        "colab": {
          "base_uri": "https://localhost:8080/"
        },
        "outputId": "395c5e23-606a-4e38-815f-f321ec50d3e7"
      },
      "source": [
        "np.linspace(0,10, 1000) #punto de partida, punto de llegada, números en el intervalo"
      ],
      "execution_count": null,
      "outputs": [
        {
          "output_type": "execute_result",
          "data": {
            "text/plain": [
              "array([ 0.        ,  0.01001001,  0.02002002,  0.03003003,  0.04004004,\n",
              "        0.05005005,  0.06006006,  0.07007007,  0.08008008,  0.09009009,\n",
              "        0.1001001 ,  0.11011011,  0.12012012,  0.13013013,  0.14014014,\n",
              "        0.15015015,  0.16016016,  0.17017017,  0.18018018,  0.19019019,\n",
              "        0.2002002 ,  0.21021021,  0.22022022,  0.23023023,  0.24024024,\n",
              "        0.25025025,  0.26026026,  0.27027027,  0.28028028,  0.29029029,\n",
              "        0.3003003 ,  0.31031031,  0.32032032,  0.33033033,  0.34034034,\n",
              "        0.35035035,  0.36036036,  0.37037037,  0.38038038,  0.39039039,\n",
              "        0.4004004 ,  0.41041041,  0.42042042,  0.43043043,  0.44044044,\n",
              "        0.45045045,  0.46046046,  0.47047047,  0.48048048,  0.49049049,\n",
              "        0.5005005 ,  0.51051051,  0.52052052,  0.53053053,  0.54054054,\n",
              "        0.55055055,  0.56056056,  0.57057057,  0.58058058,  0.59059059,\n",
              "        0.6006006 ,  0.61061061,  0.62062062,  0.63063063,  0.64064064,\n",
              "        0.65065065,  0.66066066,  0.67067067,  0.68068068,  0.69069069,\n",
              "        0.7007007 ,  0.71071071,  0.72072072,  0.73073073,  0.74074074,\n",
              "        0.75075075,  0.76076076,  0.77077077,  0.78078078,  0.79079079,\n",
              "        0.8008008 ,  0.81081081,  0.82082082,  0.83083083,  0.84084084,\n",
              "        0.85085085,  0.86086086,  0.87087087,  0.88088088,  0.89089089,\n",
              "        0.9009009 ,  0.91091091,  0.92092092,  0.93093093,  0.94094094,\n",
              "        0.95095095,  0.96096096,  0.97097097,  0.98098098,  0.99099099,\n",
              "        1.001001  ,  1.01101101,  1.02102102,  1.03103103,  1.04104104,\n",
              "        1.05105105,  1.06106106,  1.07107107,  1.08108108,  1.09109109,\n",
              "        1.1011011 ,  1.11111111,  1.12112112,  1.13113113,  1.14114114,\n",
              "        1.15115115,  1.16116116,  1.17117117,  1.18118118,  1.19119119,\n",
              "        1.2012012 ,  1.21121121,  1.22122122,  1.23123123,  1.24124124,\n",
              "        1.25125125,  1.26126126,  1.27127127,  1.28128128,  1.29129129,\n",
              "        1.3013013 ,  1.31131131,  1.32132132,  1.33133133,  1.34134134,\n",
              "        1.35135135,  1.36136136,  1.37137137,  1.38138138,  1.39139139,\n",
              "        1.4014014 ,  1.41141141,  1.42142142,  1.43143143,  1.44144144,\n",
              "        1.45145145,  1.46146146,  1.47147147,  1.48148148,  1.49149149,\n",
              "        1.5015015 ,  1.51151151,  1.52152152,  1.53153153,  1.54154154,\n",
              "        1.55155155,  1.56156156,  1.57157157,  1.58158158,  1.59159159,\n",
              "        1.6016016 ,  1.61161161,  1.62162162,  1.63163163,  1.64164164,\n",
              "        1.65165165,  1.66166166,  1.67167167,  1.68168168,  1.69169169,\n",
              "        1.7017017 ,  1.71171171,  1.72172172,  1.73173173,  1.74174174,\n",
              "        1.75175175,  1.76176176,  1.77177177,  1.78178178,  1.79179179,\n",
              "        1.8018018 ,  1.81181181,  1.82182182,  1.83183183,  1.84184184,\n",
              "        1.85185185,  1.86186186,  1.87187187,  1.88188188,  1.89189189,\n",
              "        1.9019019 ,  1.91191191,  1.92192192,  1.93193193,  1.94194194,\n",
              "        1.95195195,  1.96196196,  1.97197197,  1.98198198,  1.99199199,\n",
              "        2.002002  ,  2.01201201,  2.02202202,  2.03203203,  2.04204204,\n",
              "        2.05205205,  2.06206206,  2.07207207,  2.08208208,  2.09209209,\n",
              "        2.1021021 ,  2.11211211,  2.12212212,  2.13213213,  2.14214214,\n",
              "        2.15215215,  2.16216216,  2.17217217,  2.18218218,  2.19219219,\n",
              "        2.2022022 ,  2.21221221,  2.22222222,  2.23223223,  2.24224224,\n",
              "        2.25225225,  2.26226226,  2.27227227,  2.28228228,  2.29229229,\n",
              "        2.3023023 ,  2.31231231,  2.32232232,  2.33233233,  2.34234234,\n",
              "        2.35235235,  2.36236236,  2.37237237,  2.38238238,  2.39239239,\n",
              "        2.4024024 ,  2.41241241,  2.42242242,  2.43243243,  2.44244244,\n",
              "        2.45245245,  2.46246246,  2.47247247,  2.48248248,  2.49249249,\n",
              "        2.5025025 ,  2.51251251,  2.52252252,  2.53253253,  2.54254254,\n",
              "        2.55255255,  2.56256256,  2.57257257,  2.58258258,  2.59259259,\n",
              "        2.6026026 ,  2.61261261,  2.62262262,  2.63263263,  2.64264264,\n",
              "        2.65265265,  2.66266266,  2.67267267,  2.68268268,  2.69269269,\n",
              "        2.7027027 ,  2.71271271,  2.72272272,  2.73273273,  2.74274274,\n",
              "        2.75275275,  2.76276276,  2.77277277,  2.78278278,  2.79279279,\n",
              "        2.8028028 ,  2.81281281,  2.82282282,  2.83283283,  2.84284284,\n",
              "        2.85285285,  2.86286286,  2.87287287,  2.88288288,  2.89289289,\n",
              "        2.9029029 ,  2.91291291,  2.92292292,  2.93293293,  2.94294294,\n",
              "        2.95295295,  2.96296296,  2.97297297,  2.98298298,  2.99299299,\n",
              "        3.003003  ,  3.01301301,  3.02302302,  3.03303303,  3.04304304,\n",
              "        3.05305305,  3.06306306,  3.07307307,  3.08308308,  3.09309309,\n",
              "        3.1031031 ,  3.11311311,  3.12312312,  3.13313313,  3.14314314,\n",
              "        3.15315315,  3.16316316,  3.17317317,  3.18318318,  3.19319319,\n",
              "        3.2032032 ,  3.21321321,  3.22322322,  3.23323323,  3.24324324,\n",
              "        3.25325325,  3.26326326,  3.27327327,  3.28328328,  3.29329329,\n",
              "        3.3033033 ,  3.31331331,  3.32332332,  3.33333333,  3.34334334,\n",
              "        3.35335335,  3.36336336,  3.37337337,  3.38338338,  3.39339339,\n",
              "        3.4034034 ,  3.41341341,  3.42342342,  3.43343343,  3.44344344,\n",
              "        3.45345345,  3.46346346,  3.47347347,  3.48348348,  3.49349349,\n",
              "        3.5035035 ,  3.51351351,  3.52352352,  3.53353353,  3.54354354,\n",
              "        3.55355355,  3.56356356,  3.57357357,  3.58358358,  3.59359359,\n",
              "        3.6036036 ,  3.61361361,  3.62362362,  3.63363363,  3.64364364,\n",
              "        3.65365365,  3.66366366,  3.67367367,  3.68368368,  3.69369369,\n",
              "        3.7037037 ,  3.71371371,  3.72372372,  3.73373373,  3.74374374,\n",
              "        3.75375375,  3.76376376,  3.77377377,  3.78378378,  3.79379379,\n",
              "        3.8038038 ,  3.81381381,  3.82382382,  3.83383383,  3.84384384,\n",
              "        3.85385385,  3.86386386,  3.87387387,  3.88388388,  3.89389389,\n",
              "        3.9039039 ,  3.91391391,  3.92392392,  3.93393393,  3.94394394,\n",
              "        3.95395395,  3.96396396,  3.97397397,  3.98398398,  3.99399399,\n",
              "        4.004004  ,  4.01401401,  4.02402402,  4.03403403,  4.04404404,\n",
              "        4.05405405,  4.06406406,  4.07407407,  4.08408408,  4.09409409,\n",
              "        4.1041041 ,  4.11411411,  4.12412412,  4.13413413,  4.14414414,\n",
              "        4.15415415,  4.16416416,  4.17417417,  4.18418418,  4.19419419,\n",
              "        4.2042042 ,  4.21421421,  4.22422422,  4.23423423,  4.24424424,\n",
              "        4.25425425,  4.26426426,  4.27427427,  4.28428428,  4.29429429,\n",
              "        4.3043043 ,  4.31431431,  4.32432432,  4.33433433,  4.34434434,\n",
              "        4.35435435,  4.36436436,  4.37437437,  4.38438438,  4.39439439,\n",
              "        4.4044044 ,  4.41441441,  4.42442442,  4.43443443,  4.44444444,\n",
              "        4.45445445,  4.46446446,  4.47447447,  4.48448448,  4.49449449,\n",
              "        4.5045045 ,  4.51451451,  4.52452452,  4.53453453,  4.54454454,\n",
              "        4.55455455,  4.56456456,  4.57457457,  4.58458458,  4.59459459,\n",
              "        4.6046046 ,  4.61461461,  4.62462462,  4.63463463,  4.64464464,\n",
              "        4.65465465,  4.66466466,  4.67467467,  4.68468468,  4.69469469,\n",
              "        4.7047047 ,  4.71471471,  4.72472472,  4.73473473,  4.74474474,\n",
              "        4.75475475,  4.76476476,  4.77477477,  4.78478478,  4.79479479,\n",
              "        4.8048048 ,  4.81481481,  4.82482482,  4.83483483,  4.84484484,\n",
              "        4.85485485,  4.86486486,  4.87487487,  4.88488488,  4.89489489,\n",
              "        4.9049049 ,  4.91491491,  4.92492492,  4.93493493,  4.94494494,\n",
              "        4.95495495,  4.96496496,  4.97497497,  4.98498498,  4.99499499,\n",
              "        5.00500501,  5.01501502,  5.02502503,  5.03503504,  5.04504505,\n",
              "        5.05505506,  5.06506507,  5.07507508,  5.08508509,  5.0950951 ,\n",
              "        5.10510511,  5.11511512,  5.12512513,  5.13513514,  5.14514515,\n",
              "        5.15515516,  5.16516517,  5.17517518,  5.18518519,  5.1951952 ,\n",
              "        5.20520521,  5.21521522,  5.22522523,  5.23523524,  5.24524525,\n",
              "        5.25525526,  5.26526527,  5.27527528,  5.28528529,  5.2952953 ,\n",
              "        5.30530531,  5.31531532,  5.32532533,  5.33533534,  5.34534535,\n",
              "        5.35535536,  5.36536537,  5.37537538,  5.38538539,  5.3953954 ,\n",
              "        5.40540541,  5.41541542,  5.42542543,  5.43543544,  5.44544545,\n",
              "        5.45545546,  5.46546547,  5.47547548,  5.48548549,  5.4954955 ,\n",
              "        5.50550551,  5.51551552,  5.52552553,  5.53553554,  5.54554555,\n",
              "        5.55555556,  5.56556557,  5.57557558,  5.58558559,  5.5955956 ,\n",
              "        5.60560561,  5.61561562,  5.62562563,  5.63563564,  5.64564565,\n",
              "        5.65565566,  5.66566567,  5.67567568,  5.68568569,  5.6956957 ,\n",
              "        5.70570571,  5.71571572,  5.72572573,  5.73573574,  5.74574575,\n",
              "        5.75575576,  5.76576577,  5.77577578,  5.78578579,  5.7957958 ,\n",
              "        5.80580581,  5.81581582,  5.82582583,  5.83583584,  5.84584585,\n",
              "        5.85585586,  5.86586587,  5.87587588,  5.88588589,  5.8958959 ,\n",
              "        5.90590591,  5.91591592,  5.92592593,  5.93593594,  5.94594595,\n",
              "        5.95595596,  5.96596597,  5.97597598,  5.98598599,  5.995996  ,\n",
              "        6.00600601,  6.01601602,  6.02602603,  6.03603604,  6.04604605,\n",
              "        6.05605606,  6.06606607,  6.07607608,  6.08608609,  6.0960961 ,\n",
              "        6.10610611,  6.11611612,  6.12612613,  6.13613614,  6.14614615,\n",
              "        6.15615616,  6.16616617,  6.17617618,  6.18618619,  6.1961962 ,\n",
              "        6.20620621,  6.21621622,  6.22622623,  6.23623624,  6.24624625,\n",
              "        6.25625626,  6.26626627,  6.27627628,  6.28628629,  6.2962963 ,\n",
              "        6.30630631,  6.31631632,  6.32632633,  6.33633634,  6.34634635,\n",
              "        6.35635636,  6.36636637,  6.37637638,  6.38638639,  6.3963964 ,\n",
              "        6.40640641,  6.41641642,  6.42642643,  6.43643644,  6.44644645,\n",
              "        6.45645646,  6.46646647,  6.47647648,  6.48648649,  6.4964965 ,\n",
              "        6.50650651,  6.51651652,  6.52652653,  6.53653654,  6.54654655,\n",
              "        6.55655656,  6.56656657,  6.57657658,  6.58658659,  6.5965966 ,\n",
              "        6.60660661,  6.61661662,  6.62662663,  6.63663664,  6.64664665,\n",
              "        6.65665666,  6.66666667,  6.67667668,  6.68668669,  6.6966967 ,\n",
              "        6.70670671,  6.71671672,  6.72672673,  6.73673674,  6.74674675,\n",
              "        6.75675676,  6.76676677,  6.77677678,  6.78678679,  6.7967968 ,\n",
              "        6.80680681,  6.81681682,  6.82682683,  6.83683684,  6.84684685,\n",
              "        6.85685686,  6.86686687,  6.87687688,  6.88688689,  6.8968969 ,\n",
              "        6.90690691,  6.91691692,  6.92692693,  6.93693694,  6.94694695,\n",
              "        6.95695696,  6.96696697,  6.97697698,  6.98698699,  6.996997  ,\n",
              "        7.00700701,  7.01701702,  7.02702703,  7.03703704,  7.04704705,\n",
              "        7.05705706,  7.06706707,  7.07707708,  7.08708709,  7.0970971 ,\n",
              "        7.10710711,  7.11711712,  7.12712713,  7.13713714,  7.14714715,\n",
              "        7.15715716,  7.16716717,  7.17717718,  7.18718719,  7.1971972 ,\n",
              "        7.20720721,  7.21721722,  7.22722723,  7.23723724,  7.24724725,\n",
              "        7.25725726,  7.26726727,  7.27727728,  7.28728729,  7.2972973 ,\n",
              "        7.30730731,  7.31731732,  7.32732733,  7.33733734,  7.34734735,\n",
              "        7.35735736,  7.36736737,  7.37737738,  7.38738739,  7.3973974 ,\n",
              "        7.40740741,  7.41741742,  7.42742743,  7.43743744,  7.44744745,\n",
              "        7.45745746,  7.46746747,  7.47747748,  7.48748749,  7.4974975 ,\n",
              "        7.50750751,  7.51751752,  7.52752753,  7.53753754,  7.54754755,\n",
              "        7.55755756,  7.56756757,  7.57757758,  7.58758759,  7.5975976 ,\n",
              "        7.60760761,  7.61761762,  7.62762763,  7.63763764,  7.64764765,\n",
              "        7.65765766,  7.66766767,  7.67767768,  7.68768769,  7.6976977 ,\n",
              "        7.70770771,  7.71771772,  7.72772773,  7.73773774,  7.74774775,\n",
              "        7.75775776,  7.76776777,  7.77777778,  7.78778779,  7.7977978 ,\n",
              "        7.80780781,  7.81781782,  7.82782783,  7.83783784,  7.84784785,\n",
              "        7.85785786,  7.86786787,  7.87787788,  7.88788789,  7.8978979 ,\n",
              "        7.90790791,  7.91791792,  7.92792793,  7.93793794,  7.94794795,\n",
              "        7.95795796,  7.96796797,  7.97797798,  7.98798799,  7.997998  ,\n",
              "        8.00800801,  8.01801802,  8.02802803,  8.03803804,  8.04804805,\n",
              "        8.05805806,  8.06806807,  8.07807808,  8.08808809,  8.0980981 ,\n",
              "        8.10810811,  8.11811812,  8.12812813,  8.13813814,  8.14814815,\n",
              "        8.15815816,  8.16816817,  8.17817818,  8.18818819,  8.1981982 ,\n",
              "        8.20820821,  8.21821822,  8.22822823,  8.23823824,  8.24824825,\n",
              "        8.25825826,  8.26826827,  8.27827828,  8.28828829,  8.2982983 ,\n",
              "        8.30830831,  8.31831832,  8.32832833,  8.33833834,  8.34834835,\n",
              "        8.35835836,  8.36836837,  8.37837838,  8.38838839,  8.3983984 ,\n",
              "        8.40840841,  8.41841842,  8.42842843,  8.43843844,  8.44844845,\n",
              "        8.45845846,  8.46846847,  8.47847848,  8.48848849,  8.4984985 ,\n",
              "        8.50850851,  8.51851852,  8.52852853,  8.53853854,  8.54854855,\n",
              "        8.55855856,  8.56856857,  8.57857858,  8.58858859,  8.5985986 ,\n",
              "        8.60860861,  8.61861862,  8.62862863,  8.63863864,  8.64864865,\n",
              "        8.65865866,  8.66866867,  8.67867868,  8.68868869,  8.6986987 ,\n",
              "        8.70870871,  8.71871872,  8.72872873,  8.73873874,  8.74874875,\n",
              "        8.75875876,  8.76876877,  8.77877878,  8.78878879,  8.7987988 ,\n",
              "        8.80880881,  8.81881882,  8.82882883,  8.83883884,  8.84884885,\n",
              "        8.85885886,  8.86886887,  8.87887888,  8.88888889,  8.8988989 ,\n",
              "        8.90890891,  8.91891892,  8.92892893,  8.93893894,  8.94894895,\n",
              "        8.95895896,  8.96896897,  8.97897898,  8.98898899,  8.998999  ,\n",
              "        9.00900901,  9.01901902,  9.02902903,  9.03903904,  9.04904905,\n",
              "        9.05905906,  9.06906907,  9.07907908,  9.08908909,  9.0990991 ,\n",
              "        9.10910911,  9.11911912,  9.12912913,  9.13913914,  9.14914915,\n",
              "        9.15915916,  9.16916917,  9.17917918,  9.18918919,  9.1991992 ,\n",
              "        9.20920921,  9.21921922,  9.22922923,  9.23923924,  9.24924925,\n",
              "        9.25925926,  9.26926927,  9.27927928,  9.28928929,  9.2992993 ,\n",
              "        9.30930931,  9.31931932,  9.32932933,  9.33933934,  9.34934935,\n",
              "        9.35935936,  9.36936937,  9.37937938,  9.38938939,  9.3993994 ,\n",
              "        9.40940941,  9.41941942,  9.42942943,  9.43943944,  9.44944945,\n",
              "        9.45945946,  9.46946947,  9.47947948,  9.48948949,  9.4994995 ,\n",
              "        9.50950951,  9.51951952,  9.52952953,  9.53953954,  9.54954955,\n",
              "        9.55955956,  9.56956957,  9.57957958,  9.58958959,  9.5995996 ,\n",
              "        9.60960961,  9.61961962,  9.62962963,  9.63963964,  9.64964965,\n",
              "        9.65965966,  9.66966967,  9.67967968,  9.68968969,  9.6996997 ,\n",
              "        9.70970971,  9.71971972,  9.72972973,  9.73973974,  9.74974975,\n",
              "        9.75975976,  9.76976977,  9.77977978,  9.78978979,  9.7997998 ,\n",
              "        9.80980981,  9.81981982,  9.82982983,  9.83983984,  9.84984985,\n",
              "        9.85985986,  9.86986987,  9.87987988,  9.88988989,  9.8998999 ,\n",
              "        9.90990991,  9.91991992,  9.92992993,  9.93993994,  9.94994995,\n",
              "        9.95995996,  9.96996997,  9.97997998,  9.98998999, 10.        ])"
            ]
          },
          "metadata": {},
          "execution_count": 94
        }
      ]
    },
    {
      "cell_type": "code",
      "source": [
        "import matplotlib.pyplot as plt"
      ],
      "metadata": {
        "id": "tb03Tw-TbVRC"
      },
      "execution_count": null,
      "outputs": []
    },
    {
      "cell_type": "code",
      "source": [
        "x = np.linspace(0, 100, 500)"
      ],
      "metadata": {
        "id": "RX5zkwAEbXg0"
      },
      "execution_count": null,
      "outputs": []
    },
    {
      "cell_type": "code",
      "source": [
        "y = x ** 2"
      ],
      "metadata": {
        "id": "KxvoW0_1bzYo"
      },
      "execution_count": null,
      "outputs": []
    },
    {
      "cell_type": "code",
      "source": [
        "plt.plot(x,y)"
      ],
      "metadata": {
        "colab": {
          "base_uri": "https://localhost:8080/",
          "height": 283
        },
        "id": "KXRXPARVbXWo",
        "outputId": "4c17cad2-23ed-42df-dd49-dc166c9459da"
      },
      "execution_count": null,
      "outputs": [
        {
          "output_type": "execute_result",
          "data": {
            "text/plain": [
              "[<matplotlib.lines.Line2D at 0x7f76ecd0a280>]"
            ]
          },
          "metadata": {},
          "execution_count": 98
        },
        {
          "output_type": "display_data",
          "data": {
            "text/plain": [
              "<Figure size 432x288 with 1 Axes>"
            ],
            "image/png": "[encoded data removed]"
          },
          "metadata": {
            "needs_background": "light"
          }
        }
      ]
    },
    {
      "cell_type": "markdown",
      "metadata": {
        "id": "Y1IBkfYsHmcA"
      },
      "source": [
        "## Álgebra lineal"
      ]
    },
    {
      "cell_type": "code",
      "metadata": {
        "id": "s1nVR7kkHNb7"
      },
      "source": [
        "C = np.array([[3,4],\n",
        "              [5,6]])"
      ],
      "execution_count": null,
      "outputs": []
    },
    {
      "cell_type": "code",
      "metadata": {
        "colab": {
          "base_uri": "https://localhost:8080/"
        },
        "id": "HFJos4TYHshC",
        "outputId": "82c75247-0289-49b4-81a4-064996562d4b"
      },
      "source": [
        "np.linalg.det(C)"
      ],
      "execution_count": null,
      "outputs": [
        {
          "output_type": "execute_result",
          "data": {
            "text/plain": [
              "-1.9999999999999971"
            ]
          },
          "metadata": {},
          "execution_count": 100
        }
      ]
    },
    {
      "cell_type": "code",
      "metadata": {
        "colab": {
          "base_uri": "https://localhost:8080/"
        },
        "id": "bI7ZlmvyHxOx",
        "outputId": "232421a3-5ebb-4a7b-f36d-a78bda4873df"
      },
      "source": [
        "np.linalg.inv(C)"
      ],
      "execution_count": null,
      "outputs": [
        {
          "output_type": "execute_result",
          "data": {
            "text/plain": [
              "array([[-3. ,  2. ],\n",
              "       [ 2.5, -1.5]])"
            ]
          },
          "metadata": {},
          "execution_count": 101
        }
      ]
    },
    {
      "cell_type": "code",
      "metadata": {
        "colab": {
          "base_uri": "https://localhost:8080/"
        },
        "id": "HeUiPIItH3dO",
        "outputId": "3b8f8421-196e-4546-9775-b2a52d190ead"
      },
      "source": [
        "np.linalg.eig(C)"
      ],
      "execution_count": null,
      "outputs": [
        {
          "output_type": "execute_result",
          "data": {
            "text/plain": [
              "(array([-0.21699057,  9.21699057]), array([[-0.77925158, -0.54107946],\n",
              "        [ 0.62671124, -0.84097147]]))"
            ]
          },
          "metadata": {},
          "execution_count": 102
        }
      ]
    },
    {
      "cell_type": "code",
      "metadata": {
        "colab": {
          "base_uri": "https://localhost:8080/"
        },
        "id": "Kh3BzHcUH_um",
        "outputId": "05679b19-0024-4e0f-e0fa-5cb841acc475"
      },
      "source": [
        "np.linalg.eigvals(C)"
      ],
      "execution_count": null,
      "outputs": [
        {
          "output_type": "execute_result",
          "data": {
            "text/plain": [
              "array([-0.21699057,  9.21699057])"
            ]
          },
          "metadata": {},
          "execution_count": 103
        }
      ]
    },
    {
      "cell_type": "code",
      "metadata": {
        "id": "xhx7FsdIIJ0P"
      },
      "source": [
        "F = np.array([[2,0],\n",
        "              [0,2]])"
      ],
      "execution_count": null,
      "outputs": []
    },
    {
      "cell_type": "markdown",
      "metadata": {
        "id": "5fE23F27IY0Y"
      },
      "source": [
        "$$2x+3y=3$$\n",
        "\n",
        "$$5x+y=7$$\n",
        "\n",
        "$$\\begin{bmatrix}\n",
        "2 & 3 \\\\\n",
        "5 & 1\n",
        "\\end{bmatrix}\n",
        "\\begin{bmatrix}\n",
        "x\\\\\n",
        "y\n",
        "\\end{bmatrix}=\n",
        "\\begin{bmatrix}\n",
        "3 \\\\\n",
        "7\n",
        "\\end{bmatrix}$$\n",
        "\n"
      ]
    },
    {
      "cell_type": "code",
      "metadata": {
        "id": "Y1onU-vMIIV5"
      },
      "source": [
        "A = np.array([[2,3],\n",
        "              [5,1]])\n",
        "b = np.array([3,7])"
      ],
      "execution_count": null,
      "outputs": []
    },
    {
      "cell_type": "code",
      "metadata": {
        "colab": {
          "base_uri": "https://localhost:8080/"
        },
        "id": "jeuJ4RnsI1Ai",
        "outputId": "1ec306d8-400f-4751-8744-3a52025b4e9a"
      },
      "source": [
        "np.linalg.solve(A,b)"
      ],
      "execution_count": null,
      "outputs": [
        {
          "output_type": "execute_result",
          "data": {
            "text/plain": [
              "array([1.38461538, 0.07692308])"
            ]
          },
          "metadata": {},
          "execution_count": 106
        }
      ]
    },
    {
      "cell_type": "code",
      "metadata": {
        "id": "8bQ4Ys_LI3Da"
      },
      "source": [
        "x = np.arange(0,50)\n",
        "e = np.array([np.random.normal(0,12) for i in range(50)])\n",
        "y = 10 + 4 * x + e"
      ],
      "execution_count": null,
      "outputs": []
    },
    {
      "cell_type": "code",
      "source": [
        "plt.hist(e)"
      ],
      "metadata": {
        "colab": {
          "base_uri": "https://localhost:8080/",
          "height": 354
        },
        "id": "Cs1cdGqLfDR_",
        "outputId": "30a43d0a-3c27-4c4e-dfa5-8b5971158ebe"
      },
      "execution_count": null,
      "outputs": [
        {
          "output_type": "execute_result",
          "data": {
            "text/plain": [
              "(array([ 1.,  2.,  2.,  6., 12., 13.,  8.,  2.,  3.,  1.]),\n",
              " array([-34.08905677, -27.92789078, -21.7667248 , -15.60555882,\n",
              "         -9.44439284,  -3.28322685,   2.87793913,   9.03910511,\n",
              "         15.20027109,  21.36143707,  27.52260306]),\n",
              " <a list of 10 Patch objects>)"
            ]
          },
          "metadata": {},
          "execution_count": 108
        },
        {
          "output_type": "display_data",
          "data": {
            "text/plain": [
              "<Figure size 432x288 with 1 Axes>"
            ],
            "image/png": "[encoded data removed]"
          },
          "metadata": {
            "needs_background": "light"
          }
        }
      ]
    },
    {
      "cell_type": "code",
      "metadata": {
        "colab": {
          "base_uri": "https://localhost:8080/",
          "height": 283
        },
        "id": "ZG5KPc-zJPqQ",
        "outputId": "40f01db1-0a9b-4a9f-93cf-d214084ecab8"
      },
      "source": [
        "plt.scatter(x,y)"
      ],
      "execution_count": null,
      "outputs": [
        {
          "output_type": "execute_result",
          "data": {
            "text/plain": [
              "<matplotlib.collections.PathCollection at 0x7f76ecbf9610>"
            ]
          },
          "metadata": {},
          "execution_count": 109
        },
        {
          "output_type": "display_data",
          "data": {
            "text/plain": [
              "<Figure size 432x288 with 1 Axes>"
            ],
            "image/png": "[encoded data removed]"
          },
          "metadata": {
            "needs_background": "light"
          }
        }
      ]
    },
    {
      "cell_type": "code",
      "source": [
        "np.c_[np.ones(50),x]"
      ],
      "metadata": {
        "id": "DjidKC5GdtNY",
        "colab": {
          "base_uri": "https://localhost:8080/"
        },
        "outputId": "cdad0b60-7192-4a9a-e0e8-dbe405566e07"
      },
      "execution_count": null,
      "outputs": [
        {
          "output_type": "execute_result",
          "data": {
            "text/plain": [
              "array([[ 1.,  0.],\n",
              "       [ 1.,  1.],\n",
              "       [ 1.,  2.],\n",
              "       [ 1.,  3.],\n",
              "       [ 1.,  4.],\n",
              "       [ 1.,  5.],\n",
              "       [ 1.,  6.],\n",
              "       [ 1.,  7.],\n",
              "       [ 1.,  8.],\n",
              "       [ 1.,  9.],\n",
              "       [ 1., 10.],\n",
              "       [ 1., 11.],\n",
              "       [ 1., 12.],\n",
              "       [ 1., 13.],\n",
              "       [ 1., 14.],\n",
              "       [ 1., 15.],\n",
              "       [ 1., 16.],\n",
              "       [ 1., 17.],\n",
              "       [ 1., 18.],\n",
              "       [ 1., 19.],\n",
              "       [ 1., 20.],\n",
              "       [ 1., 21.],\n",
              "       [ 1., 22.],\n",
              "       [ 1., 23.],\n",
              "       [ 1., 24.],\n",
              "       [ 1., 25.],\n",
              "       [ 1., 26.],\n",
              "       [ 1., 27.],\n",
              "       [ 1., 28.],\n",
              "       [ 1., 29.],\n",
              "       [ 1., 30.],\n",
              "       [ 1., 31.],\n",
              "       [ 1., 32.],\n",
              "       [ 1., 33.],\n",
              "       [ 1., 34.],\n",
              "       [ 1., 35.],\n",
              "       [ 1., 36.],\n",
              "       [ 1., 37.],\n",
              "       [ 1., 38.],\n",
              "       [ 1., 39.],\n",
              "       [ 1., 40.],\n",
              "       [ 1., 41.],\n",
              "       [ 1., 42.],\n",
              "       [ 1., 43.],\n",
              "       [ 1., 44.],\n",
              "       [ 1., 45.],\n",
              "       [ 1., 46.],\n",
              "       [ 1., 47.],\n",
              "       [ 1., 48.],\n",
              "       [ 1., 49.]])"
            ]
          },
          "metadata": {},
          "execution_count": 110
        }
      ]
    },
    {
      "cell_type": "code",
      "metadata": {
        "id": "ylHbOsbyJSkH"
      },
      "source": [
        "b = np.linalg.lstsq(np.c_[np.ones(50),x],y,rcond=None)[0]"
      ],
      "execution_count": null,
      "outputs": []
    },
    {
      "cell_type": "code",
      "metadata": {
        "colab": {
          "base_uri": "https://localhost:8080/"
        },
        "id": "gliAawSEJnZr",
        "outputId": "3c5eb575-67cc-4c30-9ed1-3d973797f54d"
      },
      "source": [
        "b"
      ],
      "execution_count": null,
      "outputs": [
        {
          "output_type": "execute_result",
          "data": {
            "text/plain": [
              "array([8.41486033, 3.98146373])"
            ]
          },
          "metadata": {},
          "execution_count": 112
        }
      ]
    },
    {
      "cell_type": "code",
      "metadata": {
        "colab": {
          "base_uri": "https://localhost:8080/",
          "height": 283
        },
        "id": "WU9QApFBJn9J",
        "outputId": "cc85888c-5251-42e1-8038-30a994e70620"
      },
      "source": [
        "plt.scatter(x,y)\n",
        "plt.plot(x,b[0]+b[1]*x, color='red')"
      ],
      "execution_count": null,
      "outputs": [
        {
          "output_type": "execute_result",
          "data": {
            "text/plain": [
              "[<matplotlib.lines.Line2D at 0x7f76ecdf14f0>]"
            ]
          },
          "metadata": {},
          "execution_count": 113
        },
        {
          "output_type": "display_data",
          "data": {
            "text/plain": [
              "<Figure size 432x288 with 1 Axes>"
            ],
            "image/png": "[encoded data removed]"
          },
          "metadata": {
            "needs_background": "light"
          }
        }
      ]
    },
    {
      "cell_type": "markdown",
      "metadata": {
        "id": "emScHDa2J_Vc"
      },
      "source": [
        "## Generando números pseudoaleatorios"
      ]
    },
    {
      "cell_type": "code",
      "metadata": {
        "colab": {
          "base_uri": "https://localhost:8080/"
        },
        "id": "R64Tc5mRJwhz",
        "outputId": "aec62a91-1b85-4e22-827e-a7a3b34813db"
      },
      "source": [
        "np.random.binomial(10,0.3)"
      ],
      "execution_count": null,
      "outputs": [
        {
          "output_type": "execute_result",
          "data": {
            "text/plain": [
              "2"
            ]
          },
          "metadata": {},
          "execution_count": 114
        }
      ]
    },
    {
      "cell_type": "code",
      "metadata": {
        "colab": {
          "base_uri": "https://localhost:8080/"
        },
        "id": "Dd1VSDtCKFGF",
        "outputId": "f412873f-4b34-4a20-f77c-dc10fb57cbd4"
      },
      "source": [
        "np.random.normal(0,10)"
      ],
      "execution_count": null,
      "outputs": [
        {
          "output_type": "execute_result",
          "data": {
            "text/plain": [
              "6.99653577806163"
            ]
          },
          "metadata": {},
          "execution_count": 115
        }
      ]
    },
    {
      "cell_type": "code",
      "metadata": {
        "colab": {
          "base_uri": "https://localhost:8080/"
        },
        "id": "psNhrWrsKJu1",
        "outputId": "72189420-1a6f-4759-c8c6-38de8fa7653c"
      },
      "source": [
        "np.random.uniform()"
      ],
      "execution_count": null,
      "outputs": [
        {
          "output_type": "execute_result",
          "data": {
            "text/plain": [
              "0.8820051321720339"
            ]
          },
          "metadata": {},
          "execution_count": 116
        }
      ]
    },
    {
      "cell_type": "code",
      "metadata": {
        "colab": {
          "base_uri": "https://localhost:8080/"
        },
        "id": "6OryiikHKMtt",
        "outputId": "6445a877-b9bd-4998-8b3b-bb8c0255ac02"
      },
      "source": [
        "np.random.randint(12,87)"
      ],
      "execution_count": null,
      "outputs": [
        {
          "output_type": "execute_result",
          "data": {
            "text/plain": [
              "44"
            ]
          },
          "metadata": {},
          "execution_count": 117
        }
      ]
    },
    {
      "cell_type": "code",
      "metadata": {
        "colab": {
          "base_uri": "https://localhost:8080/",
          "height": 245
        },
        "id": "oFCor9h2KcQG",
        "outputId": "ce0e2022-d895-4723-b2c8-d44fdbf23689"
      },
      "source": [
        "fig, axes = plt.subplots(1,3,figsize=(12,3))\n",
        "x1 = [np.random.randn() for i in range(10000)]\n",
        "x2 = [np.random.rand() for i in range(10000)]\n",
        "x3 = [np.random.randint(0,100) for i in range(10000)]\n",
        "\n",
        "axes[0].hist(x1,bins=40)\n",
        "axes[0].set_title('randn')\n",
        "axes[1].hist(x2, bins=40)\n",
        "axes[1].set_title('rand')\n",
        "axes[2].hist(x3, bins=40)\n",
        "axes[2].set_title('randint')"
      ],
      "execution_count": null,
      "outputs": [
        {
          "output_type": "execute_result",
          "data": {
            "text/plain": [
              "Text(0.5, 1.0, 'randint')"
            ]
          },
          "metadata": {},
          "execution_count": 118
        },
        {
          "output_type": "display_data",
          "data": {
            "text/plain": [
              "<Figure size 864x216 with 3 Axes>"
            ],
            "image/png": "[encoded data removed]"
          },
          "metadata": {
            "needs_background": "light"
          }
        }
      ]
    },
    {
      "cell_type": "markdown",
      "metadata": {
        "id": "3fG6zvUULT7Z"
      },
      "source": [
        "## Algo de estadística y de probabilidad"
      ]
    },
    {
      "cell_type": "code",
      "metadata": {
        "id": "wdV1jxUBLDZd"
      },
      "source": [
        "np.random.seed(108)\n",
        "\n",
        "vec = np.random.normal(10,23.5,1000)"
      ],
      "execution_count": null,
      "outputs": []
    },
    {
      "cell_type": "code",
      "source": [
        "plt.hist(vec, bins=25)"
      ],
      "metadata": {
        "colab": {
          "base_uri": "https://localhost:8080/",
          "height": 461
        },
        "id": "zYyvmh4ugmcb",
        "outputId": "65e8c8db-c531-4296-9691-6d5a6c4c0529"
      },
      "execution_count": null,
      "outputs": [
        {
          "output_type": "execute_result",
          "data": {
            "text/plain": [
              "(array([  3.,   2.,   5.,   5.,  12.,  16.,  41.,  43.,  65.,  65.,  87.,\n",
              "         90., 102., 102., 113.,  68.,  61.,  45.,  30.,  25.,   7.,   4.,\n",
              "          4.,   4.,   1.]),\n",
              " array([-63.9659617 , -58.09661114, -52.22726058, -46.35791002,\n",
              "        -40.48855946, -34.6192089 , -28.74985834, -22.88050778,\n",
              "        -17.01115722, -11.14180666,  -5.2724561 ,   0.59689446,\n",
              "          6.46624502,  12.33559558,  18.20494614,  24.0742967 ,\n",
              "         29.94364726,  35.81299782,  41.68234838,  47.55169894,\n",
              "         53.4210495 ,  59.29040006,  65.15975062,  71.02910118,\n",
              "         76.89845174,  82.7678023 ]),\n",
              " <a list of 25 Patch objects>)"
            ]
          },
          "metadata": {},
          "execution_count": 120
        },
        {
          "output_type": "display_data",
          "data": {
            "text/plain": [
              "<Figure size 432x288 with 1 Axes>"
            ],
            "image/png": "[encoded data removed]"
          },
          "metadata": {
            "needs_background": "light"
          }
        }
      ]
    },
    {
      "cell_type": "code",
      "source": [
        "vec"
      ],
      "metadata": {
        "id": "55x90cLggLLR",
        "colab": {
          "base_uri": "https://localhost:8080/"
        },
        "outputId": "b41c5498-faba-4d18-ef1d-8a4996fc8dc4"
      },
      "execution_count": null,
      "outputs": [
        {
          "output_type": "execute_result",
          "data": {
            "text/plain": [
              "array([-1.41322560e+01,  1.52111115e+01,  3.65641676e+01,  3.69353526e+01,\n",
              "       -3.92925577e+00,  1.27914247e+01, -1.38411000e+00, -3.57054486e+01,\n",
              "        1.21638175e+01,  3.12009737e+01,  4.08900118e+01,  2.81209013e+01,\n",
              "       -2.69346296e+00,  3.32329333e+00, -1.08992824e+01,  1.94979778e+01,\n",
              "       -1.69030732e+01,  2.28168045e+01,  4.41706446e+01,  3.87634539e+01,\n",
              "        1.51982570e+01,  5.24562688e+01,  1.85784080e+01,  5.50047846e+00,\n",
              "        1.88657477e+01,  6.03989865e+00,  7.60933480e+00,  3.36150084e+01,\n",
              "        2.72483631e+01,  7.73338528e+00,  4.03226420e+01,  4.75700642e+01,\n",
              "       -2.30268931e+01,  1.11976185e+01, -1.17743848e+01,  9.83515287e+00,\n",
              "        2.35344950e+01,  2.43952584e+01, -4.82412138e+00, -9.72124151e-01,\n",
              "        2.99602040e+00,  4.17388543e+01,  4.22866914e+01, -1.05364515e+01,\n",
              "        4.15617009e+01,  3.87318670e+01,  4.96228632e+01,  2.04621739e+01,\n",
              "        3.78232274e+01,  4.03298762e+01,  3.51639597e+00,  3.01435722e+00,\n",
              "        5.54878785e+00, -1.45499133e+01, -4.27295879e+00,  3.79948662e+01,\n",
              "        3.75988256e+01, -2.78637148e+01, -5.50280323e+00,  5.95824609e+00,\n",
              "        1.93007613e+01,  3.01312397e+01,  1.71308379e+01, -1.02611199e+01,\n",
              "        8.94738892e+00,  4.39099566e+01,  1.37024154e+01, -1.93205879e+01,\n",
              "        2.96103240e+01,  2.12614070e+01,  4.50766002e+01,  1.71302473e+01,\n",
              "        2.51024502e+01,  8.77420399e+00, -9.12665819e+00,  2.40328515e-01,\n",
              "        1.22040148e+01, -1.26819294e+01,  1.74961861e+01,  3.32552928e+01,\n",
              "       -6.02642812e+00,  2.00472417e+01,  1.70620798e+00,  5.92513971e+00,\n",
              "        5.00865931e+01, -4.58690794e+00, -1.77176393e+01,  1.37129185e+01,\n",
              "        1.40486266e+01,  1.73879634e+01, -3.53189342e+01,  5.10708927e+01,\n",
              "        7.25127022e+00,  4.13103064e+01, -3.72588168e+00,  1.53040027e+01,\n",
              "        2.03328922e+01,  4.12854858e+01, -2.92471542e+00,  1.43639006e+01,\n",
              "       -5.20965456e+00,  1.93872037e+01, -1.47809888e+01, -5.45149559e+00,\n",
              "        3.37771694e+01,  1.06436680e+01,  3.28107641e+01,  2.84503270e+01,\n",
              "        2.16753139e+01,  6.60744394e+00,  4.22836543e+01, -3.26426470e+01,\n",
              "        5.96918330e+01, -4.05952537e+01,  1.37782931e+01, -3.76022216e+00,\n",
              "       -4.20256625e+00, -1.55378722e+01, -1.19711725e-02,  5.62845400e+01,\n",
              "        1.86410983e+01,  1.20110451e+01,  1.71075247e+01,  1.22393841e+01,\n",
              "        4.46290825e+01,  1.47722313e+01,  2.03200601e+01,  3.07522944e+01,\n",
              "       -8.21996524e-01, -6.76822946e+00,  6.07429702e+00, -5.74379743e+00,\n",
              "       -1.41536791e+01, -1.59459113e+01,  4.71606960e+01, -1.48627647e+01,\n",
              "        4.72382215e+00, -4.91228225e+00,  1.10661850e+01,  9.63233604e+00,\n",
              "        1.74766962e+01,  5.11106540e+01,  9.80176542e+00,  3.66351225e+01,\n",
              "        8.10333691e-01,  5.09164027e+01,  4.96027070e+01,  3.71678499e+01,\n",
              "        3.63625521e+01,  8.54603236e+00,  1.55176683e+01,  1.88121138e+01,\n",
              "        6.19736120e+00, -9.00302797e-01,  1.75643198e+01, -2.00611910e+01,\n",
              "        2.06396752e+01,  2.49386268e+01,  1.75098451e+01, -1.38228766e+01,\n",
              "        2.26209896e+01,  2.71557205e+01,  3.47841025e+01,  5.63319896e+00,\n",
              "        3.27818230e-01,  2.52679686e+01,  3.56091766e+01, -2.54024234e+01,\n",
              "        3.77833529e+01,  3.51594589e+01, -1.56572354e+00,  6.46128186e+00,\n",
              "        1.19366285e+01,  2.00268510e+01, -1.88006534e+01,  2.22436782e+01,\n",
              "        1.61413328e+01,  1.28158561e+00,  2.89758825e+01, -4.38305813e-01,\n",
              "       -1.50157598e+01, -1.29794449e+01, -2.42702940e+01, -3.50388562e+00,\n",
              "        3.14656574e+01, -1.58344260e+01,  3.32556657e+01,  1.28333967e+01,\n",
              "        7.55407493e+00, -5.01613979e+01, -2.02829061e+01,  1.02784883e+01,\n",
              "       -1.40319569e+00,  1.75556582e+01, -2.01700865e+01,  3.26528377e+01,\n",
              "       -1.25080935e+01, -3.64888844e+01,  3.94814665e+01,  8.85263646e+00,\n",
              "        1.24699359e+01,  1.58269946e+00,  2.60056731e+00,  3.25507670e-01,\n",
              "        5.46178958e+01,  3.50339092e+01, -6.72470055e+00, -8.37026964e+00,\n",
              "        7.95566658e+00,  5.80760707e+01,  3.16427407e+01, -1.72618616e+00,\n",
              "        4.81250710e+01,  2.93195924e+01, -3.75409834e+00,  4.51033819e+01,\n",
              "        9.96545863e+00,  9.97184052e+00,  1.72910282e+01,  1.88078273e+01,\n",
              "       -6.60518541e+00,  1.82090793e+01,  2.94859571e+00,  2.80406026e+01,\n",
              "        4.22268491e+01,  1.12157762e+01,  6.42423608e+00, -8.12302878e+00,\n",
              "        1.69222319e+01,  3.86588749e+00, -2.63513748e+01, -1.18505969e+01,\n",
              "        3.28205668e+01,  3.32509309e+01,  2.37747353e+01,  3.88659374e+01,\n",
              "        2.92477423e+00,  4.52010097e+01,  2.10394130e+01,  3.33246539e+01,\n",
              "       -2.77266446e+01, -6.91347537e+00,  1.12643429e+01, -1.70946598e+01,\n",
              "        1.61854755e+01,  7.41449340e+00,  2.73671661e+01,  1.58115041e+01,\n",
              "        3.93088040e+01,  1.02099702e+01,  1.10881670e+01, -2.53818628e+01,\n",
              "        3.36444089e+01,  2.02937306e+01, -3.65845571e+00,  4.36783678e+00,\n",
              "        7.22769320e+01,  2.72784358e+01,  3.62968239e+01,  2.24819180e+01,\n",
              "        8.25704058e+00,  4.95685732e+01, -3.50964171e+00, -1.51011911e+01,\n",
              "       -3.52981849e+00,  2.09321940e+01,  3.25204397e+01, -5.20690725e+01,\n",
              "        3.70197028e+00,  2.49139743e+01,  5.18414356e+01,  4.14818163e+01,\n",
              "        1.77750422e+01, -1.57705799e+01,  3.03338661e+01,  1.53056746e+00,\n",
              "        1.00002945e+01,  1.67671392e+01,  1.11224011e+01, -3.26905952e+01,\n",
              "       -2.80572445e+01, -2.29805695e+01, -3.99065791e+01,  4.50385349e+01,\n",
              "       -1.71311107e+01,  3.56564271e+01,  1.36931974e+01,  2.48318363e+01,\n",
              "       -1.17057762e+00, -8.99050560e-01,  2.88117784e+01, -1.05353953e+01,\n",
              "        2.37404945e+01, -1.07626915e+01,  2.61501932e+01, -2.79260903e+01,\n",
              "        2.25920125e+01,  6.52095822e+01,  2.03186087e+01,  3.22791806e+01,\n",
              "       -2.19158564e+01,  8.28912663e+00, -9.57818146e+00,  2.58439210e+01,\n",
              "        2.22783894e+01,  1.55056954e+01,  3.15987606e+01,  3.89590562e+01,\n",
              "       -1.89633641e+01,  4.45731594e+00,  2.18272364e+01,  4.48028310e+01,\n",
              "        3.45730404e+01, -8.43578996e-01,  5.29311104e+00,  1.33355459e+01,\n",
              "       -2.29099108e+00, -2.64637973e+01,  5.25713209e+01, -1.50620856e+00,\n",
              "        2.61019057e+01,  2.06746991e+01,  3.13466065e+01,  2.15519348e+01,\n",
              "        1.24039286e+01, -2.38074338e+01,  3.89724622e+00,  2.39456140e+01,\n",
              "       -4.95853976e+00, -1.71804271e+01, -2.29768881e+01, -3.92081601e+00,\n",
              "        1.73386845e+01,  4.88831071e+01,  3.41510572e+01,  6.91446559e+01,\n",
              "        4.35225356e+01,  2.73462696e+00,  4.68211694e+01,  6.30255537e+01,\n",
              "        4.02384061e+01,  1.81771865e+01, -5.48275269e+01,  9.85557567e+00,\n",
              "        1.34921640e+01,  1.31693189e+01,  3.34947933e+01,  3.88667297e+01,\n",
              "        1.99990127e+01,  1.00080260e+01,  1.92114078e+00, -7.03637887e+00,\n",
              "        3.11992424e+01, -3.17246076e+00,  3.90898080e+00,  3.08325342e+01,\n",
              "        2.93733917e+01,  2.07862046e+01, -1.16190443e+01,  7.62572341e+00,\n",
              "        3.11840948e+01, -2.50588570e+01,  2.05358436e+01,  2.00016244e+01,\n",
              "       -1.54349696e+01, -1.22726543e+01,  1.04962548e+01,  3.18539988e+00,\n",
              "        7.52256199e+01, -3.09210653e+01, -1.24409813e+00,  1.86085693e+01,\n",
              "       -2.75998356e+01, -3.19327717e+00,  7.75304085e+00,  2.37907342e+01,\n",
              "        1.42328271e+01,  3.82123295e+01,  1.46075903e+01,  1.86485550e+01,\n",
              "       -2.07362356e+01, -1.54310038e+01,  3.92100036e+01,  9.40904502e+00,\n",
              "        2.26898516e+01,  2.14064055e+01, -2.38076526e+01,  2.67523788e+01,\n",
              "       -1.44182986e+01,  1.74465352e+01,  1.61695938e+01, -1.54431014e+01,\n",
              "        2.68323308e+01, -2.41627577e+01,  1.41573757e+01, -1.86033378e+00,\n",
              "        1.76940526e+01,  1.46746223e+01, -3.49150097e+00,  1.03972944e+01,\n",
              "       -1.03948111e+01,  3.69629318e+01,  8.15887266e+00, -4.04812808e+01,\n",
              "       -1.94104446e+01, -1.49121242e+01,  1.01676535e+01, -2.68559671e+01,\n",
              "       -2.78297891e+01, -6.16327977e+00,  2.90336059e+00, -9.95808327e+00,\n",
              "        2.27076442e+01,  8.15154740e+00,  5.62242419e+00,  4.36868159e+01,\n",
              "        4.54866874e+01,  2.09852803e+01,  1.20669015e+01, -6.39659617e+01,\n",
              "        8.00602382e+00, -8.28252938e+00,  1.39690529e+01, -2.54957750e+01,\n",
              "        2.32613688e+01,  3.34063619e+01,  1.45139741e+00, -2.06853669e+01,\n",
              "       -5.97412830e+00,  7.93202035e+00,  4.70073035e-02,  2.29659746e+00,\n",
              "       -2.66414999e+01,  3.54195573e+01,  3.41263154e+01,  4.69743502e+01,\n",
              "        2.39857438e+01,  3.16864730e+01,  7.01190217e+00, -2.03380589e+01,\n",
              "       -9.56812181e+00, -2.34501435e+01,  5.00799715e+00,  5.77861590e+00,\n",
              "        3.21884719e-02, -5.44451145e+01,  2.07707756e+01,  3.09299111e+01,\n",
              "       -3.18885962e+01,  1.95232022e+01, -1.33932445e+00, -1.82772848e+01,\n",
              "        2.93301190e+01,  1.70439539e+01,  1.74669914e+00,  1.79213110e+01,\n",
              "        8.54472653e+00,  2.39405682e+01,  3.72060874e+00,  1.39092909e+01,\n",
              "        5.33285830e+01,  1.94661939e+01, -2.67657706e+01,  5.89863925e+00,\n",
              "       -1.19681056e+01,  5.84226720e+00,  4.69310189e+00,  7.13916054e+01,\n",
              "       -1.54030837e+01,  2.30483106e+01,  9.94097304e+00,  2.82630699e+01,\n",
              "       -1.76849851e+01, -2.52098167e+01,  6.90122376e+00,  1.07293426e+01,\n",
              "        2.27862319e+01,  4.06344334e+00,  2.64465804e+01, -2.51473972e+01,\n",
              "        8.32208668e+00,  2.85733180e+01,  6.61083996e+00, -9.91606937e+00,\n",
              "       -1.16072821e+01, -5.40865026e-01, -1.19777269e+01,  2.37190148e+01,\n",
              "       -1.20743588e+01, -2.20981739e+01, -5.99694832e+01,  2.16267655e+01,\n",
              "        2.14860697e+01, -1.45561314e+01, -8.81642690e+00,  1.91819606e+01,\n",
              "       -1.59009537e+01,  2.24697193e+01, -9.48195854e+00,  2.71404001e+01,\n",
              "        7.64909701e+00, -4.59382882e+00, -2.57097492e+01,  3.10492646e+01,\n",
              "        1.35932503e+01,  4.03687920e+01,  3.18797807e+01,  3.30964561e+01,\n",
              "        8.61491265e+00,  2.26758060e+00,  1.84504904e+01, -6.15435935e+00,\n",
              "        9.94817076e+00,  2.21217111e+01,  1.30101150e+01,  2.23554264e+01,\n",
              "        1.56255534e+01,  3.47293078e+00,  2.01501968e+01, -1.40217599e+01,\n",
              "        7.03417761e+00,  1.86079193e+01,  7.93294674e+00,  1.67035971e+01,\n",
              "        1.95454623e+01,  5.06107116e+00, -4.95123088e+00, -3.24422906e+01,\n",
              "        1.43556192e+00,  1.62297518e+01,  5.28662264e+00, -2.30893800e+01,\n",
              "       -6.41873841e+00, -1.17915557e+01,  1.90725011e+01,  3.83460146e+01,\n",
              "       -6.24868797e+00,  2.39493598e+01,  4.95175260e+01,  2.88613149e+01,\n",
              "       -1.71765161e+01, -3.09153277e+00, -2.76825120e+00,  5.50367228e+00,\n",
              "        3.39544892e+01, -3.23016227e+00,  2.19148178e-01,  3.99742354e+01,\n",
              "        1.84629120e+01,  2.64124621e+01,  1.32740010e+01,  2.38408636e+00,\n",
              "       -1.61562370e+01,  1.99130186e+01,  1.21642161e+01, -3.62327451e+01,\n",
              "        1.74037223e+01, -3.96999212e+01,  3.33515173e+01, -1.74098491e+00,\n",
              "        2.97398663e+01,  5.63102353e+01,  9.24088574e+00,  1.38425285e+00,\n",
              "        3.82560648e+00,  1.22950564e+01,  4.25252916e+00, -1.24388462e+01,\n",
              "       -1.28677277e+01,  2.49582810e+01,  1.67382459e+01,  8.20828069e+00,\n",
              "       -2.60368816e+00, -2.54693048e+01,  5.08697731e+00,  2.80614708e+01,\n",
              "       -1.39812901e+01,  1.10928639e+01,  4.02315708e+01, -2.25424046e+01,\n",
              "        1.23493558e+01,  9.25036424e+00, -1.41726482e+01, -5.28524498e+00,\n",
              "        7.20364609e+00, -3.14475886e+01, -8.69194231e+00, -1.79342783e+01,\n",
              "        2.77430695e+01,  4.43858899e+00, -1.21135366e+01, -3.71165620e-01,\n",
              "       -1.57723258e+01,  3.00788577e+01, -1.47949887e+01,  3.85712479e+01,\n",
              "        1.80984678e+01, -7.75957437e+00,  2.86006803e+01,  2.73669438e+01,\n",
              "       -9.61616188e-01, -3.16868865e+00, -1.49248431e+01,  5.84976474e+01,\n",
              "       -1.77670280e+01, -3.03116511e+01,  1.39213246e+01,  6.73353697e-01,\n",
              "       -9.78366312e+00,  1.04339247e+01, -4.41263490e+00,  1.58209721e+01,\n",
              "        1.75668804e+01,  1.96008152e+01,  3.50400679e+01,  1.48477832e+01,\n",
              "        5.49174158e+01, -1.75879617e+01,  8.22339534e+00, -1.35446334e+01,\n",
              "        6.14834256e+00, -9.96606391e+00,  7.37929906e+00,  5.29778257e+01,\n",
              "        1.88635302e+01, -8.38201073e+00,  4.33358482e+01, -4.05861300e+01,\n",
              "        3.92689250e+00,  4.75644009e+00,  1.99257213e+01,  1.30102456e+01,\n",
              "        1.18625688e+01, -2.46025306e+01, -4.88294010e+01,  1.90361739e-01,\n",
              "       -1.34091846e+01,  2.47387171e+01, -3.24054686e+01, -7.68118547e+00,\n",
              "       -5.15311643e+00,  3.11477193e+01,  4.55616672e+01,  3.55899919e+01,\n",
              "       -1.20811794e+01,  5.23869284e+00, -9.13780756e+00,  2.20902320e+01,\n",
              "        4.42541015e+01, -2.43398126e+01,  1.26638397e+01,  4.32143052e+01,\n",
              "        1.32169379e+01,  5.48194706e+00,  3.36281949e+01, -3.90142530e+01,\n",
              "        9.62272724e+00,  1.19910136e+01,  1.22822593e+00,  5.72348448e+00,\n",
              "        3.05783400e+01, -1.06110282e+01, -1.92162883e+01,  2.63441054e+01,\n",
              "       -2.15699135e+01,  1.53234309e+01, -1.28186485e+01,  2.53096592e+01,\n",
              "        3.93637591e+01,  2.52017996e+01, -8.30688866e+00,  1.82451205e+01,\n",
              "        6.98823781e+00, -7.63498691e+00,  2.29884427e+01, -1.15317609e+01,\n",
              "        1.65013152e+01,  3.40203336e+01,  3.13041109e+01, -8.65632291e-01,\n",
              "        1.88776644e+01,  5.56736492e+01,  1.56281102e+01, -8.50983055e+00,\n",
              "       -1.35349598e+01, -1.29685371e+01,  1.44079548e+01, -6.05442554e+01,\n",
              "        1.58720167e+01, -6.41061379e+00,  2.58399923e+01,  1.59097925e+01,\n",
              "        1.70919137e+01,  3.85710966e+01,  3.27482345e+01,  2.50584901e+01,\n",
              "        1.83943449e+01, -1.31094648e+01, -2.18060492e+01,  9.61332748e+00,\n",
              "        8.85884727e+00, -2.69719273e-01, -4.18605664e+00,  4.90235733e+01,\n",
              "        2.63368895e+01,  5.12255709e+01,  1.21493927e+01,  3.43672136e+01,\n",
              "       -3.46986232e+01,  1.13432666e+01, -2.24333680e+01,  1.87884913e+01,\n",
              "        1.66188094e+01, -3.76899581e+01, -7.05277492e+00,  2.93747556e+01,\n",
              "        2.24111293e+01, -3.40279105e+01,  1.18867793e+01,  1.44125534e+01,\n",
              "        2.10558932e+01,  2.80412708e-01,  3.33733759e+01,  4.98367166e+00,\n",
              "        9.01574993e-01, -1.24838684e+01, -7.64720617e+00, -2.95889341e+01,\n",
              "       -4.12216188e+01, -3.43878412e+01, -3.96367167e+00, -2.71101445e+00,\n",
              "        1.88635417e+01, -4.95520518e+01,  3.05679258e+01,  2.36399115e+01,\n",
              "        2.16861889e+01,  3.76860119e+01,  1.18858235e+01,  3.03327296e+01,\n",
              "        1.41581915e+01,  2.62719218e+01, -3.23269282e+00,  1.66964516e+01,\n",
              "       -3.70421907e+01,  1.74714071e+01,  3.80220074e+01,  5.85603500e+00,\n",
              "        3.14270899e+00,  1.68977282e+01,  7.53396214e+00,  2.53592688e+00,\n",
              "       -1.54403805e+01,  2.34852248e+01,  2.86459839e+01, -2.41730958e+01,\n",
              "        3.74891936e+01,  1.89036309e+01, -2.76289710e-01, -4.85971322e+00,\n",
              "       -3.84733982e-01,  4.78857982e+01,  3.85037841e+00,  1.37379336e+01,\n",
              "       -2.52281852e+01,  2.89738300e+00,  3.30424197e+00,  2.22348910e+00,\n",
              "        7.97263706e+00, -5.46822772e+00, -3.45965045e+01,  5.74211098e+00,\n",
              "        1.70873919e+01,  1.17189689e+01,  4.79059565e+01,  4.52313029e-01,\n",
              "       -2.78478417e+01,  4.62458029e+01,  2.68005395e+01,  7.43443474e+00,\n",
              "       -8.39904451e+00,  8.75638925e+00,  2.55159076e+01,  1.88332688e+01,\n",
              "        1.84613330e+01,  3.44532220e+01,  2.08426582e+01,  3.81785349e+01,\n",
              "        3.31652137e+00,  1.54129899e+01,  1.19253169e+01,  1.08855431e+01,\n",
              "        6.22281578e+00,  2.34170464e+01, -2.31251254e+01,  3.02715507e+01,\n",
              "       -6.46038868e+00,  2.09587231e+01,  1.10638403e+01,  1.25714191e+01,\n",
              "        2.38289465e+01,  4.27218272e+01,  1.89208829e+01, -8.25487809e+00,\n",
              "        2.65132168e+01,  1.90133950e+01, -2.61655227e+01, -8.06181024e+00,\n",
              "       -3.20895025e+01,  2.12517226e+01,  1.01987524e+01,  6.34757199e+00,\n",
              "        2.07546527e+01, -1.99186448e+01,  2.95392177e+01,  1.72954387e+01,\n",
              "        4.27617980e+01,  4.73032587e+00,  6.41475840e+01,  3.49545906e+01,\n",
              "       -3.47246151e+01, -1.73872674e+01,  6.77214442e+00,  3.25831325e+01,\n",
              "       -2.64333533e+01,  1.75297383e+01,  1.72744246e+01,  1.39140096e+01,\n",
              "        3.74494116e+01, -1.93357227e+00, -2.40649182e+01,  8.39192676e+00,\n",
              "        1.52805813e+01, -2.74213959e-01, -3.41106216e+00, -8.36456282e+00,\n",
              "       -9.32702259e+00, -2.16913980e+01,  2.51131024e+00,  4.43319913e+00,\n",
              "        2.48050044e+01,  2.32101236e+01,  2.24209167e+01,  2.52780720e+01,\n",
              "       -4.19423042e+00,  2.89291153e+01,  1.72275497e+01,  4.62772966e+01,\n",
              "       -3.23073220e+01, -3.18800513e+00,  4.29354105e+01,  2.11877764e+01,\n",
              "        3.01697477e+01, -6.02169231e+00,  2.50350068e+01, -1.46263202e+01,\n",
              "       -2.01098112e+01,  4.92291736e+01,  1.86319465e+01, -1.11350628e+01,\n",
              "        2.85708332e+00,  6.81285436e+01, -4.52360102e+00,  2.45489862e+01,\n",
              "       -1.27789327e+01,  2.87343007e+01,  2.13885908e+01, -1.89428358e+01,\n",
              "        5.33991000e+00,  3.64241933e+01,  1.70070663e+01,  2.93093768e+01,\n",
              "        5.90769982e+00,  4.75823474e+01,  7.50565512e+00,  2.21055340e+01,\n",
              "        2.79515541e+01,  1.95433612e+01, -2.45833985e+01, -2.75550929e+01,\n",
              "        6.87315028e+01,  1.91046126e+01, -6.80066117e-01, -6.82375567e+00,\n",
              "        2.81890241e+01, -2.42639848e+01,  2.69783720e+01,  1.59820079e+01,\n",
              "       -1.45393884e+01,  1.61691883e+01,  1.24505481e+01,  1.14678341e+01,\n",
              "       -8.59543001e+00,  4.62354964e+01, -1.83496140e+00, -1.55867730e+01,\n",
              "       -1.14660321e+01, -1.92640292e+01, -9.34830125e+00, -1.05951279e+01,\n",
              "       -4.32104629e+01,  1.82281151e+01, -2.50577377e+00,  1.74784410e+01,\n",
              "        1.36925709e-02,  5.45723393e+00, -5.52083702e-01, -2.20789690e+01,\n",
              "       -8.01136798e+00,  2.31950787e+01,  2.93033247e+01,  9.41976287e+00,\n",
              "        3.88188628e+01,  2.62055265e+01, -4.39709895e+00,  1.73553763e+01,\n",
              "        1.72809026e+01,  2.59919035e+00, -4.96127210e+00,  1.64297858e+01,\n",
              "        2.21007033e+01,  6.90497964e+00,  2.46199238e+00,  2.18426337e+01,\n",
              "        2.09175386e-01,  5.26525355e+01, -6.11445376e+00,  3.89475460e+01,\n",
              "       -7.20751558e+00, -6.07660232e+00,  3.85141701e+01,  1.99551995e+01,\n",
              "       -1.57747345e+01,  1.15553740e+01, -3.41698591e+00, -3.30536832e+01,\n",
              "       -2.33219561e+01, -7.08475411e+00, -1.67077672e+01,  2.73014945e+01,\n",
              "       -1.99780187e+01,  7.98791386e+00,  1.22506466e+01, -9.90919407e+00,\n",
              "        4.26637757e+01,  4.91237997e+01,  2.68062204e+01, -4.88746022e+00,\n",
              "        3.71216316e+01, -1.52606245e+01,  1.94068986e+01,  1.56265047e+01,\n",
              "        1.47765668e+01,  3.56718659e+01,  4.22165850e+00,  5.77256110e+00,\n",
              "        1.97623842e+01,  1.89050211e+01, -1.74903636e+01,  2.01791619e+01,\n",
              "        1.26373855e+01,  2.87663660e+01,  1.03105348e+01,  4.92266285e+01,\n",
              "       -2.18296887e+01, -9.73179683e+00,  2.18310716e+01, -2.09269546e+01,\n",
              "        1.61609913e+01, -2.22893246e+01, -5.17210573e+01,  6.17761391e+01,\n",
              "       -4.95846779e+00, -1.41491743e+01, -2.00676442e+01,  9.16039708e+00,\n",
              "        2.91259243e+01, -2.82680917e+00, -1.97787182e+01, -1.60006809e+01,\n",
              "       -2.14337676e+01,  1.21914513e+01,  2.06463328e+01,  1.27658035e+01,\n",
              "        2.79217516e+01,  3.46208712e+01, -1.79641759e+01,  8.27678023e+01,\n",
              "        1.52089625e+00,  1.50161454e+01, -4.07423151e+01,  4.21778645e+01,\n",
              "        7.86015566e+00,  1.20747253e+01, -3.42983476e+01,  7.23352458e+01,\n",
              "       -1.53026372e+01, -1.63333983e+01,  2.97371424e+01,  1.22828036e+01])"
            ]
          },
          "metadata": {},
          "execution_count": 121
        }
      ]
    },
    {
      "cell_type": "code",
      "metadata": {
        "colab": {
          "base_uri": "https://localhost:8080/"
        },
        "id": "eNLdwAr2Lchg",
        "outputId": "474270e7-c04f-4921-cdc2-48f4108301ee"
      },
      "source": [
        "np.mean(vec)"
      ],
      "execution_count": null,
      "outputs": [
        {
          "output_type": "execute_result",
          "data": {
            "text/plain": [
              "9.478818109354863"
            ]
          },
          "metadata": {},
          "execution_count": 122
        }
      ]
    },
    {
      "cell_type": "code",
      "metadata": {
        "colab": {
          "base_uri": "https://localhost:8080/"
        },
        "id": "FyeqZamcLfZF",
        "outputId": "6df4f71c-bfbd-41fd-807b-765ad1d8a3ec"
      },
      "source": [
        "np.median(vec)"
      ],
      "execution_count": null,
      "outputs": [
        {
          "output_type": "execute_result",
          "data": {
            "text/plain": [
              "10.35391460099882"
            ]
          },
          "metadata": {},
          "execution_count": 123
        }
      ]
    },
    {
      "cell_type": "code",
      "metadata": {
        "colab": {
          "base_uri": "https://localhost:8080/"
        },
        "id": "NDrT9ZbiLi7R",
        "outputId": "08b94c53-970a-4bf2-9177-88fb2222a122"
      },
      "source": [
        "vec.var()"
      ],
      "execution_count": null,
      "outputs": [
        {
          "output_type": "execute_result",
          "data": {
            "text/plain": [
              "519.0904458019293"
            ]
          },
          "metadata": {},
          "execution_count": 124
        }
      ]
    },
    {
      "cell_type": "code",
      "metadata": {
        "colab": {
          "base_uri": "https://localhost:8080/"
        },
        "id": "aWCNpQ63Lk3z",
        "outputId": "a53623c6-4a21-44a5-ff83-164551d775d1"
      },
      "source": [
        "vec.std()"
      ],
      "execution_count": null,
      "outputs": [
        {
          "output_type": "execute_result",
          "data": {
            "text/plain": [
              "22.783556478344842"
            ]
          },
          "metadata": {},
          "execution_count": 125
        }
      ]
    },
    {
      "cell_type": "code",
      "metadata": {
        "colab": {
          "base_uri": "https://localhost:8080/"
        },
        "id": "mZcMa2UPLl6F",
        "outputId": "508c4ae6-7cde-4976-b23c-1d0093e13393"
      },
      "source": [
        "vec.min()"
      ],
      "execution_count": null,
      "outputs": [
        {
          "output_type": "execute_result",
          "data": {
            "text/plain": [
              "-63.96596169958123"
            ]
          },
          "metadata": {},
          "execution_count": 126
        }
      ]
    },
    {
      "cell_type": "code",
      "metadata": {
        "colab": {
          "base_uri": "https://localhost:8080/"
        },
        "id": "0d_MFP1iLmqV",
        "outputId": "25b2df32-d1b8-47b3-e9be-f77dd300ad3b"
      },
      "source": [
        "vec.max()"
      ],
      "execution_count": null,
      "outputs": [
        {
          "output_type": "execute_result",
          "data": {
            "text/plain": [
              "82.76780230377598"
            ]
          },
          "metadata": {},
          "execution_count": 127
        }
      ]
    },
    {
      "cell_type": "code",
      "metadata": {
        "id": "cIIP9NZ0LoBi"
      },
      "source": [
        "from scipy import stats"
      ],
      "execution_count": null,
      "outputs": []
    },
    {
      "cell_type": "code",
      "metadata": {
        "id": "gHjyx1JOLs0J"
      },
      "source": [
        "X = stats.norm(100,25)"
      ],
      "execution_count": null,
      "outputs": []
    },
    {
      "cell_type": "code",
      "metadata": {
        "colab": {
          "base_uri": "https://localhost:8080/"
        },
        "id": "wYlJJlPaLxbt",
        "outputId": "473ce184-d79b-4e12-b5a1-227d25934873"
      },
      "source": [
        "X.mean()"
      ],
      "execution_count": null,
      "outputs": [
        {
          "output_type": "execute_result",
          "data": {
            "text/plain": [
              "100.0"
            ]
          },
          "metadata": {},
          "execution_count": 133
        }
      ]
    },
    {
      "cell_type": "code",
      "metadata": {
        "colab": {
          "base_uri": "https://localhost:8080/"
        },
        "id": "OrLL04B7LyE-",
        "outputId": "386704ec-ff5e-4ccc-95a3-4fba60ddb037"
      },
      "source": [
        "X.std()"
      ],
      "execution_count": null,
      "outputs": [
        {
          "output_type": "execute_result",
          "data": {
            "text/plain": [
              "25.0"
            ]
          },
          "metadata": {},
          "execution_count": 134
        }
      ]
    },
    {
      "cell_type": "code",
      "metadata": {
        "colab": {
          "base_uri": "https://localhost:8080/"
        },
        "id": "69YOt_qDL4ii",
        "outputId": "0bd84b75-ecbc-459f-e0ae-44668a3ff3f2"
      },
      "source": [
        "X.var()"
      ],
      "execution_count": null,
      "outputs": [
        {
          "output_type": "execute_result",
          "data": {
            "text/plain": [
              "625.0"
            ]
          },
          "metadata": {},
          "execution_count": 135
        }
      ]
    },
    {
      "cell_type": "code",
      "metadata": {
        "colab": {
          "base_uri": "https://localhost:8080/"
        },
        "id": "796Nb_dYL5rh",
        "outputId": "639d4dbc-929e-4f90-c9ab-d2d61937a6b1"
      },
      "source": [
        "X.median()"
      ],
      "execution_count": null,
      "outputs": [
        {
          "output_type": "execute_result",
          "data": {
            "text/plain": [
              "100.0"
            ]
          },
          "metadata": {},
          "execution_count": 136
        }
      ]
    },
    {
      "cell_type": "markdown",
      "source": [
        "## Variables aleatorias"
      ],
      "metadata": {
        "id": "YBVMaCZE9aPJ"
      }
    },
    {
      "cell_type": "markdown",
      "source": [
        "### Discretas"
      ],
      "metadata": {
        "id": "oMPfd_IJ9cPe"
      }
    },
    {
      "cell_type": "code",
      "source": [
        "BER = stats.bernoulli\n",
        "BIN = stats.binom\n",
        "POISSON = stats.poisson"
      ],
      "metadata": {
        "id": "QCYU-GcV9Z8W"
      },
      "execution_count": null,
      "outputs": []
    },
    {
      "cell_type": "code",
      "source": [
        "BER.rvs(0.5)"
      ],
      "metadata": {
        "colab": {
          "base_uri": "https://localhost:8080/"
        },
        "id": "SFFlqb8M9190",
        "outputId": "97ed2a17-74a3-4c8f-c3ec-a8dafed3786a"
      },
      "execution_count": null,
      "outputs": [
        {
          "output_type": "execute_result",
          "data": {
            "text/plain": [
              "0"
            ]
          },
          "metadata": {},
          "execution_count": 150
        }
      ]
    },
    {
      "cell_type": "code",
      "source": [
        "BIN.rvs(20, 0.5)"
      ],
      "metadata": {
        "colab": {
          "base_uri": "https://localhost:8080/"
        },
        "id": "tL5Ay5TC912z",
        "outputId": "5db47845-5ab9-4ae4-b09a-9a000afa2729"
      },
      "execution_count": null,
      "outputs": [
        {
          "output_type": "execute_result",
          "data": {
            "text/plain": [
              "9"
            ]
          },
          "metadata": {},
          "execution_count": 144
        }
      ]
    },
    {
      "cell_type": "code",
      "source": [
        "POISSON.rvs(5)"
      ],
      "metadata": {
        "colab": {
          "base_uri": "https://localhost:8080/"
        },
        "id": "S6gKKBm7-DHv",
        "outputId": "95b54832-195c-4cbe-b1c3-9279e4e1d5a8"
      },
      "execution_count": null,
      "outputs": [
        {
          "output_type": "execute_result",
          "data": {
            "text/plain": [
              "2"
            ]
          },
          "metadata": {},
          "execution_count": 153
        }
      ]
    },
    {
      "cell_type": "markdown",
      "source": [
        "### Continuas"
      ],
      "metadata": {
        "id": "jHAoS5sS9dWV"
      }
    },
    {
      "cell_type": "code",
      "source": [
        "N = stats.norm\n",
        "U = stats.uniform"
      ],
      "metadata": {
        "id": "6e-euqXp-KCj"
      },
      "execution_count": null,
      "outputs": []
    },
    {
      "cell_type": "code",
      "source": [
        "N.rvs(0, 10)"
      ],
      "metadata": {
        "colab": {
          "base_uri": "https://localhost:8080/"
        },
        "id": "oLVLy6Zx-KAY",
        "outputId": "15305a06-793c-4ded-b3bb-2eab91303379"
      },
      "execution_count": null,
      "outputs": [
        {
          "output_type": "execute_result",
          "data": {
            "text/plain": [
              "5.146704996158411"
            ]
          },
          "metadata": {},
          "execution_count": 156
        }
      ]
    },
    {
      "cell_type": "code",
      "source": [
        "U.rvs(2, 10)"
      ],
      "metadata": {
        "colab": {
          "base_uri": "https://localhost:8080/"
        },
        "id": "MH-ERXQP-J96",
        "outputId": "1e0f83da-b83a-4411-feb6-cce90b2c8ddd"
      },
      "execution_count": null,
      "outputs": [
        {
          "output_type": "execute_result",
          "data": {
            "text/plain": [
              "11.064760952504084"
            ]
          },
          "metadata": {},
          "execution_count": 157
        }
      ]
    },
    {
      "cell_type": "code",
      "source": [
        "normal_var = N.rvs(0, 10, 10000)"
      ],
      "metadata": {
        "id": "8B6DYdzV_uBD"
      },
      "execution_count": null,
      "outputs": []
    },
    {
      "cell_type": "code",
      "source": [
        "plt.hist(normal_var, bins=50)\n",
        "plt.show()"
      ],
      "metadata": {
        "colab": {
          "base_uri": "https://localhost:8080/",
          "height": 265
        },
        "id": "wIfZHvfC_yPx",
        "outputId": "17f7814e-ae99-445a-9a5e-a5fef41e86bc"
      },
      "execution_count": null,
      "outputs": [
        {
          "output_type": "display_data",
          "data": {
            "text/plain": [
              "<Figure size 432x288 with 1 Axes>"
            ],
            "image/png": "[encoded data removed]"
          },
          "metadata": {
            "needs_background": "light"
          }
        }
      ]
    },
    {
      "cell_type": "code",
      "source": [
        "vec = np.linspace(-5, 5, 1000)"
      ],
      "metadata": {
        "id": "lVm4li9qAOZW"
      },
      "execution_count": null,
      "outputs": []
    },
    {
      "cell_type": "code",
      "source": [
        "plt.plot(vec, N.pdf(vec))\n"
      ],
      "metadata": {
        "colab": {
          "base_uri": "https://localhost:8080/",
          "height": 283
        },
        "id": "drU0tFvC_nT1",
        "outputId": "6b53af7c-78e1-4792-80d2-bbf688311225"
      },
      "execution_count": null,
      "outputs": [
        {
          "output_type": "execute_result",
          "data": {
            "text/plain": [
              "[<matplotlib.lines.Line2D at 0x7f76c9f94d60>]"
            ]
          },
          "metadata": {},
          "execution_count": 197
        },
        {
          "output_type": "display_data",
          "data": {
            "text/plain": [
              "<Figure size 432x288 with 1 Axes>"
            ],
            "image/png": "[encoded data removed]"
          },
          "metadata": {
            "needs_background": "light"
          }
        }
      ]
    },
    {
      "cell_type": "code",
      "source": [
        "plt.plot(vec, N.cdf(vec))\n"
      ],
      "metadata": {
        "colab": {
          "base_uri": "https://localhost:8080/",
          "height": 283
        },
        "id": "OL-PUwTN_sai",
        "outputId": "40b36f5c-854b-4545-ad85-14f91365b560"
      },
      "execution_count": null,
      "outputs": [
        {
          "output_type": "execute_result",
          "data": {
            "text/plain": [
              "[<matplotlib.lines.Line2D at 0x7f76c9f5e940>]"
            ]
          },
          "metadata": {},
          "execution_count": 199
        },
        {
          "output_type": "display_data",
          "data": {
            "text/plain": [
              "<Figure size 432x288 with 1 Axes>"
            ],
            "image/png": "[encoded data removed]"
          },
          "metadata": {
            "needs_background": "light"
          }
        }
      ]
    },
    {
      "cell_type": "code",
      "source": [
        "N.ppf(0.5)"
      ],
      "metadata": {
        "colab": {
          "base_uri": "https://localhost:8080/"
        },
        "id": "jgsrO8AJ_sXP",
        "outputId": "39046049-bc9b-4f69-84ad-ce5656cb091b"
      },
      "execution_count": null,
      "outputs": [
        {
          "output_type": "execute_result",
          "data": {
            "text/plain": [
              "0.0"
            ]
          },
          "metadata": {},
          "execution_count": 200
        }
      ]
    },
    {
      "cell_type": "code",
      "source": [
        "plt.plot(vec, N.pdf(vec))\n",
        "plt.axvline(N.ppf(0.1), color='r', label=f'0.1,{round(N.ppf(0.1), 2)}')\n",
        "plt.axvline(N.ppf(0.9), color='g', label=f'0.9,{round(N.ppf(0.9), 2)}')\n",
        "plt.axvline(N.ppf(0.5), color='k', label=f'0.5,{round(N.ppf(0.5), 2)}')\n",
        "plt.legend()\n",
        "plt.show()"
      ],
      "metadata": {
        "colab": {
          "base_uri": "https://localhost:8080/",
          "height": 265
        },
        "id": "cSslHtBFAh6S",
        "outputId": "da1244b0-7960-4b37-ff3f-c8983b734c55"
      },
      "execution_count": null,
      "outputs": [
        {
          "output_type": "display_data",
          "data": {
            "text/plain": [
              "<Figure size 432x288 with 1 Axes>"
            ],
            "image/png": "[encoded data removed]"
          },
          "metadata": {
            "needs_background": "light"
          }
        }
      ]
    },
    {
      "cell_type": "code",
      "source": [
        "T = stats.t(df=30)"
      ],
      "metadata": {
        "id": "kMtqNRwoBM5k"
      },
      "execution_count": null,
      "outputs": []
    },
    {
      "cell_type": "code",
      "source": [
        "plt.plot(vec, T.pdf(vec))\n",
        "plt.axvline(T.ppf(0.95), color='g', label=f'0.95,{round(T.ppf(0.95), 2)}')\n",
        "plt.legend()\n",
        "plt.show()"
      ],
      "metadata": {
        "colab": {
          "base_uri": "https://localhost:8080/",
          "height": 265
        },
        "id": "tvSYJ21tBL6b",
        "outputId": "748138fd-bc54-4870-bab8-46ca86a5e2c9"
      },
      "execution_count": null,
      "outputs": [
        {
          "output_type": "display_data",
          "data": {
            "text/plain": [
              "<Figure size 432x288 with 1 Axes>"
            ],
            "image/png": "[encoded data removed]"
          },
          "metadata": {
            "needs_background": "light"
          }
        }
      ]
    },
    {
      "cell_type": "markdown",
      "source": [
        "## Pruebas de hipótesis"
      ],
      "metadata": {
        "id": "Cvo9ieNY-U2s"
      }
    },
    {
      "cell_type": "code",
      "source": [
        "x_1 = N.rvs(5, 10, 50)\n",
        "x_2 = N.rvs(4, 10, 70)\n",
        "x_3 = N.rvs(5, 14, 50)"
      ],
      "metadata": {
        "id": "CpBofJc1-Wrw"
      },
      "execution_count": null,
      "outputs": []
    },
    {
      "cell_type": "markdown",
      "source": [
        "### Normalidad"
      ],
      "metadata": {
        "id": "reyef-Xl-bKJ"
      }
    },
    {
      "cell_type": "code",
      "source": [
        "stats.shapiro(x_1)"
      ],
      "metadata": {
        "colab": {
          "base_uri": "https://localhost:8080/"
        },
        "id": "ttD8A9sF_JgD",
        "outputId": "7e022b20-ebf7-4d82-ce06-aa8c5404c7c6"
      },
      "execution_count": null,
      "outputs": [
        {
          "output_type": "execute_result",
          "data": {
            "text/plain": [
              "ShapiroResult(statistic=0.969542920589447, pvalue=0.2217400074005127)"
            ]
          },
          "metadata": {},
          "execution_count": 164
        }
      ]
    },
    {
      "cell_type": "code",
      "source": [
        "stats.shapiro(x_2)"
      ],
      "metadata": {
        "colab": {
          "base_uri": "https://localhost:8080/"
        },
        "id": "3m6qC-r7_MQX",
        "outputId": "15874f47-2f82-4b0d-8217-04adb8128365"
      },
      "execution_count": null,
      "outputs": [
        {
          "output_type": "execute_result",
          "data": {
            "text/plain": [
              "ShapiroResult(statistic=0.9830448031425476, pvalue=0.4630069434642792)"
            ]
          },
          "metadata": {},
          "execution_count": 165
        }
      ]
    },
    {
      "cell_type": "code",
      "source": [
        "stats.shapiro(x_3)"
      ],
      "metadata": {
        "colab": {
          "base_uri": "https://localhost:8080/"
        },
        "id": "It6ktKkl_OXP",
        "outputId": "9058e26b-8b8c-4e26-f354-fe92ce588461"
      },
      "execution_count": null,
      "outputs": [
        {
          "output_type": "execute_result",
          "data": {
            "text/plain": [
              "ShapiroResult(statistic=0.9792156219482422, pvalue=0.5193736553192139)"
            ]
          },
          "metadata": {},
          "execution_count": 166
        }
      ]
    },
    {
      "cell_type": "markdown",
      "source": [
        "### Homocedasticidad"
      ],
      "metadata": {
        "id": "pQexrPma-ZKU"
      }
    },
    {
      "cell_type": "code",
      "source": [
        "stats.levene(x_1, x_2)\n"
      ],
      "metadata": {
        "colab": {
          "base_uri": "https://localhost:8080/"
        },
        "id": "zOBjqRhC-1bH",
        "outputId": "ba16abda-c8cd-47ae-da1a-42b5c2e48eda"
      },
      "execution_count": null,
      "outputs": [
        {
          "output_type": "execute_result",
          "data": {
            "text/plain": [
              "LeveneResult(statistic=0.06324865332885965, pvalue=0.8018705486813047)"
            ]
          },
          "metadata": {},
          "execution_count": 160
        }
      ]
    },
    {
      "cell_type": "code",
      "source": [
        "stats.levene(x_1, x_3)"
      ],
      "metadata": {
        "colab": {
          "base_uri": "https://localhost:8080/"
        },
        "id": "3DoUUwlz-6sH",
        "outputId": "28420cee-60d7-4ec3-f146-7386e8c4e2a7"
      },
      "execution_count": null,
      "outputs": [
        {
          "output_type": "execute_result",
          "data": {
            "text/plain": [
              "LeveneResult(statistic=3.089526494692151, pvalue=0.08192024946317567)"
            ]
          },
          "metadata": {},
          "execution_count": 161
        }
      ]
    },
    {
      "cell_type": "code",
      "source": [
        "stats.levene(x_2, x_3,)"
      ],
      "metadata": {
        "colab": {
          "base_uri": "https://localhost:8080/"
        },
        "id": "UMEMUBpj-9QG",
        "outputId": "2ac78b19-1c75-4a72-8bb9-7c23a27e2636"
      },
      "execution_count": null,
      "outputs": [
        {
          "output_type": "execute_result",
          "data": {
            "text/plain": [
              "LeveneResult(statistic=4.952192043988463, pvalue=0.027958032152604492)"
            ]
          },
          "metadata": {},
          "execution_count": 162
        }
      ]
    },
    {
      "cell_type": "markdown",
      "source": [
        "### Diferencia de medias"
      ],
      "metadata": {
        "id": "bRcZ9SrH-XBa"
      }
    },
    {
      "cell_type": "code",
      "source": [
        "stats.levene(x_1, x_2)"
      ],
      "metadata": {
        "colab": {
          "base_uri": "https://localhost:8080/"
        },
        "id": "okMnUZr8_FHD",
        "outputId": "0cff245c-fee6-4266-bd4a-0e3f7aaf202f"
      },
      "execution_count": null,
      "outputs": [
        {
          "output_type": "execute_result",
          "data": {
            "text/plain": [
              "LeveneResult(statistic=0.06324865332885965, pvalue=0.8018705486813047)"
            ]
          },
          "metadata": {},
          "execution_count": 167
        }
      ]
    },
    {
      "cell_type": "code",
      "source": [
        "stats.levene(x_1, x_3)"
      ],
      "metadata": {
        "colab": {
          "base_uri": "https://localhost:8080/"
        },
        "id": "-WYFh2iK_Rpm",
        "outputId": "81d6c6a2-138c-40b0-f21d-8ee4e7ff14dd"
      },
      "execution_count": null,
      "outputs": [
        {
          "output_type": "execute_result",
          "data": {
            "text/plain": [
              "LeveneResult(statistic=3.089526494692151, pvalue=0.08192024946317567)"
            ]
          },
          "metadata": {},
          "execution_count": 168
        }
      ]
    },
    {
      "cell_type": "code",
      "source": [
        "stats.levene(x_2, x_3)"
      ],
      "metadata": {
        "colab": {
          "base_uri": "https://localhost:8080/"
        },
        "id": "0e8S2JD5_RhV",
        "outputId": "47e9e4bd-6a1f-4b3c-b960-683347cc949a"
      },
      "execution_count": null,
      "outputs": [
        {
          "output_type": "execute_result",
          "data": {
            "text/plain": [
              "LeveneResult(statistic=4.952192043988463, pvalue=0.027958032152604492)"
            ]
          },
          "metadata": {},
          "execution_count": 169
        }
      ]
    },
    {
      "cell_type": "markdown",
      "source": [
        "### Creación de intervalos"
      ],
      "metadata": {
        "id": "-cjGMUAN-e-z"
      }
    },
    {
      "cell_type": "code",
      "metadata": {
        "colab": {
          "base_uri": "https://localhost:8080/"
        },
        "id": "jC8s6POZL77q",
        "outputId": "977fae29-0cab-452b-b242-f136c71213b5"
      },
      "source": [
        "X.interval(0.999)"
      ],
      "execution_count": null,
      "outputs": [
        {
          "output_type": "execute_result",
          "data": {
            "text/plain": [
              "(17.73683171270264, 182.26316828729813)"
            ]
          },
          "metadata": {},
          "execution_count": 170
        }
      ]
    },
    {
      "cell_type": "code",
      "metadata": {
        "id": "iahDkTcCMIhF"
      },
      "source": [
        "x_min_999, x_max_999 = X.interval(0.999)"
      ],
      "execution_count": null,
      "outputs": []
    },
    {
      "cell_type": "code",
      "metadata": {
        "colab": {
          "base_uri": "https://localhost:8080/"
        },
        "id": "WmhfMdL8MPQH",
        "outputId": "6c806860-6a41-4d54-a1d5-cc41991c8bd0"
      },
      "source": [
        "x_min_999"
      ],
      "execution_count": null,
      "outputs": [
        {
          "output_type": "execute_result",
          "data": {
            "text/plain": [
              "17.73683171270264"
            ]
          },
          "metadata": {},
          "execution_count": 172
        }
      ]
    },
    {
      "cell_type": "code",
      "metadata": {
        "colab": {
          "base_uri": "https://localhost:8080/"
        },
        "id": "H4YtfSHsMQhS",
        "outputId": "430f6531-9148-40dd-c43b-145f0ffb3c15"
      },
      "source": [
        "x_max_999"
      ],
      "execution_count": null,
      "outputs": [
        {
          "output_type": "execute_result",
          "data": {
            "text/plain": [
              "182.26316828729813"
            ]
          },
          "metadata": {},
          "execution_count": 173
        }
      ]
    },
    {
      "cell_type": "code",
      "metadata": {
        "id": "JlTb_go0MR-O"
      },
      "source": [
        "x_999 = np.linspace(x_min_999, x_max_999, 1000)"
      ],
      "execution_count": null,
      "outputs": []
    },
    {
      "cell_type": "code",
      "metadata": {
        "colab": {
          "base_uri": "https://localhost:8080/",
          "height": 229
        },
        "id": "FWuJkJeIMXQD",
        "outputId": "7bd49b4e-48a5-43e8-b91f-dcd78a3ae577"
      },
      "source": [
        "fig, axes = plt.subplots(1,3, figsize=(12,3))\n",
        "axes[0].plot(x_999, X.pdf(x_999))\n",
        "axes[1].plot(x_999, X.cdf(x_999))\n",
        "axes[2].plot(x_999, X.sf(x_999))"
      ],
      "execution_count": null,
      "outputs": [
        {
          "output_type": "execute_result",
          "data": {
            "text/plain": [
              "[<matplotlib.lines.Line2D at 0x7f76d38b3280>]"
            ]
          },
          "metadata": {},
          "execution_count": 175
        },
        {
          "output_type": "display_data",
          "data": {
            "text/plain": [
              "<Figure size 864x216 with 3 Axes>"
            ],
            "image/png": "[encoded data removed]"
          },
          "metadata": {
            "needs_background": "light"
          }
        }
      ]
    },
    {
      "cell_type": "code",
      "metadata": {
        "id": "jd_rQbX1MX8c"
      },
      "source": [
        "def graficar_probs(X):\n",
        "  x_min_999, x_max_999 = X.interval(0.999)\n",
        "  x_999 = np.linspace(x_min_999, x_max_999, 1000)\n",
        "\n",
        "  fig, axes = plt.subplots(1,3, figsize=(12,3))\n",
        "  axes[0].plot(x_999,X.pdf(x_999))\n",
        "  axes[0].set_title('pdf')\n",
        "  axes[1].plot(x_999,X.cdf(x_999))\n",
        "  axes[1].set_title('cdf')\n",
        "  axes[2].plot(x_999,X.sf(x_999))\n",
        "  axes[2].set_title('sf')\n",
        "  \n",
        "  plt.show()\n",
        "  "
      ],
      "execution_count": null,
      "outputs": []
    },
    {
      "cell_type": "code",
      "metadata": {
        "id": "tV3llsqIN5Yg"
      },
      "source": [
        "X = stats.norm(10,2)"
      ],
      "execution_count": null,
      "outputs": []
    },
    {
      "cell_type": "code",
      "metadata": {
        "colab": {
          "base_uri": "https://localhost:8080/",
          "height": 227
        },
        "id": "SSco1AweOB2y",
        "outputId": "e12306fc-30be-41b6-b2ad-c42fbb248211"
      },
      "source": [
        "graficar_probs(X)"
      ],
      "execution_count": null,
      "outputs": [
        {
          "output_type": "display_data",
          "data": {
            "text/plain": [
              "<Figure size 864x216 with 3 Axes>"
            ],
            "image/png": "[encoded data removed]"
          },
          "metadata": {
            "needs_background": "light"
          }
        }
      ]
    },
    {
      "cell_type": "code",
      "metadata": {
        "colab": {
          "base_uri": "https://localhost:8080/",
          "height": 265
        },
        "id": "IVM0xofBOEEK",
        "outputId": "b7aab7d9-d7c6-4013-f190-95bb07ae09bc"
      },
      "source": [
        "x_lim = X.interval(.999) #creo el intervalo \n",
        "x_vec = np.linspace(*x_lim, num=10000) # creo un vector que vaya desde la parte inferior del intervalo hasta la parte superior y que haya 10000 números en medio\n",
        "fig, axes = plt.subplots(1,1)\n",
        "axes.plot(x_vec, X.pdf(x_vec), label='PDF')\n",
        "axes.hist(X.rvs(10000), density=True, bins=85, histtype='barstacked', label='muestras')\n",
        "plt.legend()\n",
        "plt.show()"
      ],
      "execution_count": null,
      "outputs": [
        {
          "output_type": "display_data",
          "data": {
            "text/plain": [
              "<Figure size 432x288 with 1 Axes>"
            ],
            "image/png": "[encoded data removed]"
          },
          "metadata": {
            "needs_background": "light"
          }
        }
      ]
    },
    {
      "cell_type": "markdown",
      "source": [
        "## Objeto de regresión"
      ],
      "metadata": {
        "id": "MRVssEUtj8Tn"
      }
    },
    {
      "cell_type": "markdown",
      "source": [
        "$$y = \\beta_0 + \\beta_1 x$$\n",
        "\n",
        "$$b=(X'X)^{-1}X'y\n",
        "$$"
      ],
      "metadata": {
        "id": "yIOdXmsjkImZ"
      }
    },
    {
      "cell_type": "code",
      "source": [
        "class Regresion:\n",
        "\n",
        "  def __init__(self, X, y):\n",
        "\n",
        "    self.X = X\n",
        "    self.y = y\n",
        "    self.b = None\n",
        "\n",
        "  def fit(self, intercept=True):\n",
        "    n = self.X.shape\n",
        "    if intercept:\n",
        "      matriz_x = np.c_[np.ones(n), self.X]\n",
        "      self.b = np.linalg.inv(matriz_x.T @ matriz_x) @ (matriz_x.T @ y)\n",
        "    else:\n",
        "      np.linalg.inv(self.X.T @ self.X) @ (self.X.T @ y)\n",
        "\n",
        "\n",
        "\n"
      ],
      "metadata": {
        "id": "HNouElg3kAZg"
      },
      "execution_count": null,
      "outputs": []
    },
    {
      "cell_type": "code",
      "source": [
        "x = np.linspace(0,50,1000)\n",
        "e = np.random.normal(10,15,1000)\n",
        "y = 10 + 5.34 * x + e"
      ],
      "metadata": {
        "id": "djxUn2DblVKc"
      },
      "execution_count": null,
      "outputs": []
    },
    {
      "cell_type": "code",
      "source": [
        "reg = Regresion(x, y)"
      ],
      "metadata": {
        "id": "SAZpXgYslXPU"
      },
      "execution_count": null,
      "outputs": []
    },
    {
      "cell_type": "code",
      "source": [
        "reg.fit()"
      ],
      "metadata": {
        "id": "ji2yAuFSlbru"
      },
      "execution_count": null,
      "outputs": []
    },
    {
      "cell_type": "code",
      "source": [
        "reg.b"
      ],
      "metadata": {
        "colab": {
          "base_uri": "https://localhost:8080/"
        },
        "id": "KxWse03olszf",
        "outputId": "6e4ece12-8699-415c-ae74-45dcab97d2af"
      },
      "execution_count": null,
      "outputs": [
        {
          "output_type": "execute_result",
          "data": {
            "text/plain": [
              "array([19.72750489,  5.3315537 ])"
            ]
          },
          "metadata": {},
          "execution_count": 185
        }
      ]
    },
    {
      "cell_type": "code",
      "source": [
        "plt.figure(figsize=(14,8))\n",
        "plt.plot(x, reg.b[0]+reg.b[1]*x, color='red')\n",
        "plt.scatter(x,y)"
      ],
      "metadata": {
        "colab": {
          "base_uri": "https://localhost:8080/",
          "height": 501
        },
        "id": "FSB-g72jl3m3",
        "outputId": "dbd7f03f-7fe1-4a6c-e980-eef321602732"
      },
      "execution_count": null,
      "outputs": [
        {
          "output_type": "execute_result",
          "data": {
            "text/plain": [
              "<matplotlib.collections.PathCollection at 0x7f76d3602280>"
            ]
          },
          "metadata": {},
          "execution_count": 186
        },
        {
          "output_type": "display_data",
          "data": {
            "text/plain": [
              "<Figure size 1008x576 with 1 Axes>"
            ],
            "image/png": "[encoded data removed]"
          },
          "metadata": {
            "needs_background": "light"
          }
        }
      ]
    }
  ]
}