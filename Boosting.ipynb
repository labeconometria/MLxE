{
  "nbformat": 4,
  "nbformat_minor": 0,
  "metadata": {
    "colab": {
      "provenance": []
    },
    "kernelspec": {
      "name": "python3",
      "display_name": "Python 3"
    },
    "language_info": {
      "name": "python"
    }
  },
  "cells": [
    {
      "cell_type": "markdown",
      "source": [
        "# Boosting"
      ],
      "metadata": {
        "id": "yYrcHCz2MonS"
      }
    },
    {
      "cell_type": "markdown",
      "source": [
        "1. Adaboost\n",
        "2. Gradient Boosting\n",
        "3. XGBoost\n",
        "4. LightGBM\n",
        "5. CatBoost\n",
        "6. HistGradientBoosting"
      ],
      "metadata": {
        "id": "VOffn93cRzT-"
      }
    },
    {
      "cell_type": "code",
      "execution_count": null,
      "metadata": {
        "id": "XtHd2ckjMoI4",
        "colab": {
          "base_uri": "https://localhost:8080/"
        },
        "outputId": "b8900570-1fbb-4390-f2ad-c3236b49ec25"
      },
      "outputs": [
        {
          "output_type": "stream",
          "name": "stdout",
          "text": [
            "Looking in indexes: https://pypi.org/simple, https://us-python.pkg.dev/colab-wheels/public/simple/\n",
            "Collecting wooldridge\n",
            "  Downloading wooldridge-0.4.4-py3-none-any.whl (5.1 MB)\n",
            "\u001b[K     |████████████████████████████████| 5.1 MB 5.3 MB/s \n",
            "\u001b[?25hCollecting catboost\n",
            "  Downloading catboost-1.1-cp37-none-manylinux1_x86_64.whl (76.8 MB)\n",
            "\u001b[K     |████████████████████████████████| 76.8 MB 1.2 MB/s \n",
            "\u001b[?25hRequirement already satisfied: lightgbm in /usr/local/lib/python3.7/dist-packages (2.2.3)\n",
            "Collecting shap\n",
            "  Downloading shap-0.41.0-cp37-cp37m-manylinux_2_12_x86_64.manylinux2010_x86_64.whl (569 kB)\n",
            "\u001b[K     |████████████████████████████████| 569 kB 42.8 MB/s \n",
            "\u001b[?25hRequirement already satisfied: xgboost in /usr/local/lib/python3.7/dist-packages (0.90)\n",
            "Requirement already satisfied: pandas in /usr/local/lib/python3.7/dist-packages (from wooldridge) (1.3.5)\n",
            "Requirement already satisfied: graphviz in /usr/local/lib/python3.7/dist-packages (from catboost) (0.10.1)\n",
            "Requirement already satisfied: six in /usr/local/lib/python3.7/dist-packages (from catboost) (1.15.0)\n",
            "Requirement already satisfied: scipy in /usr/local/lib/python3.7/dist-packages (from catboost) (1.7.3)\n",
            "Requirement already satisfied: matplotlib in /usr/local/lib/python3.7/dist-packages (from catboost) (3.2.2)\n",
            "Requirement already satisfied: plotly in /usr/local/lib/python3.7/dist-packages (from catboost) (5.5.0)\n",
            "Requirement already satisfied: numpy>=1.16.0 in /usr/local/lib/python3.7/dist-packages (from catboost) (1.21.6)\n",
            "Requirement already satisfied: pytz>=2017.3 in /usr/local/lib/python3.7/dist-packages (from pandas->wooldridge) (2022.4)\n",
            "Requirement already satisfied: python-dateutil>=2.7.3 in /usr/local/lib/python3.7/dist-packages (from pandas->wooldridge) (2.8.2)\n",
            "Requirement already satisfied: scikit-learn in /usr/local/lib/python3.7/dist-packages (from lightgbm) (1.0.2)\n",
            "Requirement already satisfied: tqdm>4.25.0 in /usr/local/lib/python3.7/dist-packages (from shap) (4.64.1)\n",
            "Requirement already satisfied: numba in /usr/local/lib/python3.7/dist-packages (from shap) (0.56.2)\n",
            "Requirement already satisfied: cloudpickle in /usr/local/lib/python3.7/dist-packages (from shap) (1.5.0)\n",
            "Collecting slicer==0.0.7\n",
            "  Downloading slicer-0.0.7-py3-none-any.whl (14 kB)\n",
            "Requirement already satisfied: packaging>20.9 in /usr/local/lib/python3.7/dist-packages (from shap) (21.3)\n",
            "Requirement already satisfied: pyparsing!=3.0.5,>=2.0.2 in /usr/local/lib/python3.7/dist-packages (from packaging>20.9->shap) (3.0.9)\n",
            "Requirement already satisfied: kiwisolver>=1.0.1 in /usr/local/lib/python3.7/dist-packages (from matplotlib->catboost) (1.4.4)\n",
            "Requirement already satisfied: cycler>=0.10 in /usr/local/lib/python3.7/dist-packages (from matplotlib->catboost) (0.11.0)\n",
            "Requirement already satisfied: typing-extensions in /usr/local/lib/python3.7/dist-packages (from kiwisolver>=1.0.1->matplotlib->catboost) (4.1.1)\n",
            "Requirement already satisfied: importlib-metadata in /usr/local/lib/python3.7/dist-packages (from numba->shap) (5.0.0)\n",
            "Requirement already satisfied: llvmlite<0.40,>=0.39.0dev0 in /usr/local/lib/python3.7/dist-packages (from numba->shap) (0.39.1)\n",
            "Requirement already satisfied: setuptools<60 in /usr/local/lib/python3.7/dist-packages (from numba->shap) (57.4.0)\n",
            "Requirement already satisfied: zipp>=0.5 in /usr/local/lib/python3.7/dist-packages (from importlib-metadata->numba->shap) (3.9.0)\n",
            "Requirement already satisfied: tenacity>=6.2.0 in /usr/local/lib/python3.7/dist-packages (from plotly->catboost) (8.1.0)\n",
            "Requirement already satisfied: threadpoolctl>=2.0.0 in /usr/local/lib/python3.7/dist-packages (from scikit-learn->lightgbm) (3.1.0)\n",
            "Requirement already satisfied: joblib>=0.11 in /usr/local/lib/python3.7/dist-packages (from scikit-learn->lightgbm) (1.2.0)\n",
            "Installing collected packages: slicer, wooldridge, shap, catboost\n",
            "Successfully installed catboost-1.1 shap-0.41.0 slicer-0.0.7 wooldridge-0.4.4\n"
          ]
        }
      ],
      "source": [
        "!pip install wooldridge catboost lightgbm shap xgboost\n",
        "\n",
        "import pandas as pd\n",
        "import numpy as np\n",
        "import matplotlib.pyplot as plt\n",
        "import seaborn as sns\n",
        "import wooldridge as wd\n",
        "\n",
        "from sklearn.ensemble import GradientBoostingClassifier, AdaBoostClassifier, HistGradientBoostingClassifier\n",
        "from sklearn.model_selection import train_test_split, GridSearchCV\n",
        "from sklearn.metrics import f1_score, roc_auc_score\n",
        "from xgboost import XGBClassifier\n",
        "from catboost import CatBoostClassifier\n",
        "from lightgbm import LGBMClassifier"
      ]
    },
    {
      "cell_type": "markdown",
      "source": [
        "1. Importación de datos\n",
        "2. Selección de variables\n",
        "3. Creación de función para comparar metricas\n",
        "4. Explicación breve de cada algoritmo\n",
        "5. Implementación de algoritmos por separado\n",
        "6. Implementación grupal de los algoritmos\n",
        "7. Creación de función con grid search que entregará el mejor algoritmo de boosting"
      ],
      "metadata": {
        "id": "0z4tphSBWkqU"
      }
    },
    {
      "cell_type": "code",
      "source": [
        "data = wd.data('mroz')"
      ],
      "metadata": {
        "id": "mgVLmZplVl4A"
      },
      "execution_count": null,
      "outputs": []
    },
    {
      "cell_type": "code",
      "source": [
        "data.info()"
      ],
      "metadata": {
        "colab": {
          "base_uri": "https://localhost:8080/"
        },
        "id": "p6u2sneZW7Y_",
        "outputId": "14b02f3e-201b-4c7e-ff34-84ad042f99d4"
      },
      "execution_count": null,
      "outputs": [
        {
          "output_type": "stream",
          "name": "stdout",
          "text": [
            "<class 'pandas.core.frame.DataFrame'>\n",
            "RangeIndex: 753 entries, 0 to 752\n",
            "Data columns (total 22 columns):\n",
            " #   Column    Non-Null Count  Dtype  \n",
            "---  ------    --------------  -----  \n",
            " 0   inlf      753 non-null    int64  \n",
            " 1   hours     753 non-null    int64  \n",
            " 2   kidslt6   753 non-null    int64  \n",
            " 3   kidsge6   753 non-null    int64  \n",
            " 4   age       753 non-null    int64  \n",
            " 5   educ      753 non-null    int64  \n",
            " 6   wage      428 non-null    float64\n",
            " 7   repwage   753 non-null    float64\n",
            " 8   hushrs    753 non-null    int64  \n",
            " 9   husage    753 non-null    int64  \n",
            " 10  huseduc   753 non-null    int64  \n",
            " 11  huswage   753 non-null    float64\n",
            " 12  faminc    753 non-null    float64\n",
            " 13  mtr       753 non-null    float64\n",
            " 14  motheduc  753 non-null    int64  \n",
            " 15  fatheduc  753 non-null    int64  \n",
            " 16  unem      753 non-null    float64\n",
            " 17  city      753 non-null    int64  \n",
            " 18  exper     753 non-null    int64  \n",
            " 19  nwifeinc  753 non-null    float64\n",
            " 20  lwage     428 non-null    float64\n",
            " 21  expersq   753 non-null    int64  \n",
            "dtypes: float64(8), int64(14)\n",
            "memory usage: 129.5 KB\n"
          ]
        }
      ]
    },
    {
      "cell_type": "code",
      "source": [
        "data = data.filter(['inlf','kdslt6','kidsge6','age','educ','husage','huseduc','huswage','exper','expersq'])"
      ],
      "metadata": {
        "id": "iVsZ_7ICW72n"
      },
      "execution_count": null,
      "outputs": []
    },
    {
      "cell_type": "code",
      "source": [
        "data.head()"
      ],
      "metadata": {
        "colab": {
          "base_uri": "https://localhost:8080/",
          "height": 206
        },
        "id": "uUTxAY4YXJps",
        "outputId": "8121df47-b7b8-4aca-df61-07d3d68511b2"
      },
      "execution_count": null,
      "outputs": [
        {
          "output_type": "execute_result",
          "data": {
            "text/plain": [
              "   inlf  kidsge6  age  educ  husage  huseduc  huswage  exper  expersq\n",
              "0     1        0   32    12      34       12   4.0288     14      196\n",
              "1     1        2   30    12      30        9   8.4416      5       25\n",
              "2     1        3   35    12      40       12   3.5807     15      225\n",
              "3     1        3   34    12      53       10   3.5417      6       36\n",
              "4     1        2   31    14      32       12  10.0000      7       49"
            ],
            "text/html": [
              "\n",
              "  <div id=\"df-7cac863b-8667-434c-b50c-2e912cb038b2\">\n",
              "    <div class=\"colab-df-container\">\n",
              "      <div>\n",
              "<style scoped>\n",
              "    .dataframe tbody tr th:only-of-type {\n",
              "        vertical-align: middle;\n",
              "    }\n",
              "\n",
              "    .dataframe tbody tr th {\n",
              "        vertical-align: top;\n",
              "    }\n",
              "\n",
              "    .dataframe thead th {\n",
              "        text-align: right;\n",
              "    }\n",
              "</style>\n",
              "<table border=\"1\" class=\"dataframe\">\n",
              "  <thead>\n",
              "    <tr style=\"text-align: right;\">\n",
              "      <th></th>\n",
              "      <th>inlf</th>\n",
              "      <th>kidsge6</th>\n",
              "      <th>age</th>\n",
              "      <th>educ</th>\n",
              "      <th>husage</th>\n",
              "      <th>huseduc</th>\n",
              "      <th>huswage</th>\n",
              "      <th>exper</th>\n",
              "      <th>expersq</th>\n",
              "    </tr>\n",
              "  </thead>\n",
              "  <tbody>\n",
              "    <tr>\n",
              "      <th>0</th>\n",
              "      <td>1</td>\n",
              "      <td>0</td>\n",
              "      <td>32</td>\n",
              "      <td>12</td>\n",
              "      <td>34</td>\n",
              "      <td>12</td>\n",
              "      <td>4.0288</td>\n",
              "      <td>14</td>\n",
              "      <td>196</td>\n",
              "    </tr>\n",
              "    <tr>\n",
              "      <th>1</th>\n",
              "      <td>1</td>\n",
              "      <td>2</td>\n",
              "      <td>30</td>\n",
              "      <td>12</td>\n",
              "      <td>30</td>\n",
              "      <td>9</td>\n",
              "      <td>8.4416</td>\n",
              "      <td>5</td>\n",
              "      <td>25</td>\n",
              "    </tr>\n",
              "    <tr>\n",
              "      <th>2</th>\n",
              "      <td>1</td>\n",
              "      <td>3</td>\n",
              "      <td>35</td>\n",
              "      <td>12</td>\n",
              "      <td>40</td>\n",
              "      <td>12</td>\n",
              "      <td>3.5807</td>\n",
              "      <td>15</td>\n",
              "      <td>225</td>\n",
              "    </tr>\n",
              "    <tr>\n",
              "      <th>3</th>\n",
              "      <td>1</td>\n",
              "      <td>3</td>\n",
              "      <td>34</td>\n",
              "      <td>12</td>\n",
              "      <td>53</td>\n",
              "      <td>10</td>\n",
              "      <td>3.5417</td>\n",
              "      <td>6</td>\n",
              "      <td>36</td>\n",
              "    </tr>\n",
              "    <tr>\n",
              "      <th>4</th>\n",
              "      <td>1</td>\n",
              "      <td>2</td>\n",
              "      <td>31</td>\n",
              "      <td>14</td>\n",
              "      <td>32</td>\n",
              "      <td>12</td>\n",
              "      <td>10.0000</td>\n",
              "      <td>7</td>\n",
              "      <td>49</td>\n",
              "    </tr>\n",
              "  </tbody>\n",
              "</table>\n",
              "</div>\n",
              "      <button class=\"colab-df-convert\" onclick=\"convertToInteractive('df-7cac863b-8667-434c-b50c-2e912cb038b2')\"\n",
              "              title=\"Convert this dataframe to an interactive table.\"\n",
              "              style=\"display:none;\">\n",
              "        \n",
              "  <svg xmlns=\"http://www.w3.org/2000/svg\" height=\"24px\"viewBox=\"0 0 24 24\"\n",
              "       width=\"24px\">\n",
              "    <path d=\"M0 0h24v24H0V0z\" fill=\"none\"/>\n",
              "    <path d=\"M18.56 5.44l.94 2.06.94-2.06 2.06-.94-2.06-.94-.94-2.06-.94 2.06-2.06.94zm-11 1L8.5 8.5l.94-2.06 2.06-.94-2.06-.94L8.5 2.5l-.94 2.06-2.06.94zm10 10l.94 2.06.94-2.06 2.06-.94-2.06-.94-.94-2.06-.94 2.06-2.06.94z\"/><path d=\"M17.41 7.96l-1.37-1.37c-.4-.4-.92-.59-1.43-.59-.52 0-1.04.2-1.43.59L10.3 9.45l-7.72 7.72c-.78.78-.78 2.05 0 2.83L4 21.41c.39.39.9.59 1.41.59.51 0 1.02-.2 1.41-.59l7.78-7.78 2.81-2.81c.8-.78.8-2.07 0-2.86zM5.41 20L4 18.59l7.72-7.72 1.47 1.35L5.41 20z\"/>\n",
              "  </svg>\n",
              "      </button>\n",
              "      \n",
              "  <style>\n",
              "    .colab-df-container {\n",
              "      display:flex;\n",
              "      flex-wrap:wrap;\n",
              "      gap: 12px;\n",
              "    }\n",
              "\n",
              "    .colab-df-convert {\n",
              "      background-color: #E8F0FE;\n",
              "      border: none;\n",
              "      border-radius: 50%;\n",
              "      cursor: pointer;\n",
              "      display: none;\n",
              "      fill: #1967D2;\n",
              "      height: 32px;\n",
              "      padding: 0 0 0 0;\n",
              "      width: 32px;\n",
              "    }\n",
              "\n",
              "    .colab-df-convert:hover {\n",
              "      background-color: #E2EBFA;\n",
              "      box-shadow: 0px 1px 2px rgba(60, 64, 67, 0.3), 0px 1px 3px 1px rgba(60, 64, 67, 0.15);\n",
              "      fill: #174EA6;\n",
              "    }\n",
              "\n",
              "    [theme=dark] .colab-df-convert {\n",
              "      background-color: #3B4455;\n",
              "      fill: #D2E3FC;\n",
              "    }\n",
              "\n",
              "    [theme=dark] .colab-df-convert:hover {\n",
              "      background-color: #434B5C;\n",
              "      box-shadow: 0px 1px 3px 1px rgba(0, 0, 0, 0.15);\n",
              "      filter: drop-shadow(0px 1px 2px rgba(0, 0, 0, 0.3));\n",
              "      fill: #FFFFFF;\n",
              "    }\n",
              "  </style>\n",
              "\n",
              "      <script>\n",
              "        const buttonEl =\n",
              "          document.querySelector('#df-7cac863b-8667-434c-b50c-2e912cb038b2 button.colab-df-convert');\n",
              "        buttonEl.style.display =\n",
              "          google.colab.kernel.accessAllowed ? 'block' : 'none';\n",
              "\n",
              "        async function convertToInteractive(key) {\n",
              "          const element = document.querySelector('#df-7cac863b-8667-434c-b50c-2e912cb038b2');\n",
              "          const dataTable =\n",
              "            await google.colab.kernel.invokeFunction('convertToInteractive',\n",
              "                                                     [key], {});\n",
              "          if (!dataTable) return;\n",
              "\n",
              "          const docLinkHtml = 'Like what you see? Visit the ' +\n",
              "            '<a target=\"_blank\" href=https://colab.research.google.com/notebooks/data_table.ipynb>data table notebook</a>'\n",
              "            + ' to learn more about interactive tables.';\n",
              "          element.innerHTML = '';\n",
              "          dataTable['output_type'] = 'display_data';\n",
              "          await google.colab.output.renderOutput(dataTable, element);\n",
              "          const docLink = document.createElement('div');\n",
              "          docLink.innerHTML = docLinkHtml;\n",
              "          element.appendChild(docLink);\n",
              "        }\n",
              "      </script>\n",
              "    </div>\n",
              "  </div>\n",
              "  "
            ]
          },
          "metadata": {},
          "execution_count": 5
        }
      ]
    },
    {
      "cell_type": "code",
      "source": [
        "data['inlf'].value_counts(normalize=True)"
      ],
      "metadata": {
        "colab": {
          "base_uri": "https://localhost:8080/"
        },
        "id": "Rxf0LEQRXKd0",
        "outputId": "f3033bc9-6db0-427e-f1f0-fd0188df4c28"
      },
      "execution_count": null,
      "outputs": [
        {
          "output_type": "execute_result",
          "data": {
            "text/plain": [
              "1    0.568393\n",
              "0    0.431607\n",
              "Name: inlf, dtype: float64"
            ]
          },
          "metadata": {},
          "execution_count": 6
        }
      ]
    },
    {
      "cell_type": "code",
      "source": [
        "X_train, X_test, y_train, y_test = train_test_split(data.drop(columns='inlf'), data['inlf'], test_size=0.2, random_state=12345)"
      ],
      "metadata": {
        "id": "Acapksw8XSbO"
      },
      "execution_count": null,
      "outputs": []
    },
    {
      "cell_type": "markdown",
      "source": [
        "## Algoritmos de boosting\n",
        "\n",
        "\n",
        "\n",
        "\n",
        "### AdaBoost\n",
        "\n",
        "Penalización de las predicciones erradas en cada stack.\n",
        "#### Hiperparámetros\n",
        "\n",
        "1. `base_estimator`\n",
        "2. `n_estimators`\n",
        "3 `learning_rate`\n",
        "4. `estimators`\n",
        "\n",
        "### GradientBoosting\n",
        "\n",
        "No penaliza las malas predicciones sino que utiliza busca minimizar una función de perdida a través del descenso del gradiente.\n",
        "\n",
        "#### Hiperparámetros\n",
        "\n",
        "1. `n_estimators`\n",
        "2. `max_depth`\n",
        "3. `learning_rate`\n",
        "\n",
        "Hiperparámetros comunes de los árboles.\n",
        "\n",
        "### XGBoost\n",
        "\n",
        "Mejora el algoritmo de GradientBoosting empleando regularización y ejecución en paralelo. \n",
        "\n",
        "#### Hiperparámetros\n",
        "\n",
        "1. `n_estimators`\n",
        "2. `max_depth`\n",
        "3. `eta`: learning_rate\n",
        "4. `reg_alpha`: l1_regularization\n",
        "5. `reg_lambda`: l2_regularization\n",
        "6. `gamma`: control de complejidad. Especifica el nivel de reducción de perdida mínima requerida para hacer un split.\n",
        "\n",
        "### HistGradientBoosting\n",
        "\n",
        "#### Hiperparámetros\n",
        "\n",
        "Igual a GradientBossting pero más rápido\n",
        "\n",
        "### LightGBM\n",
        "\n",
        "Mejora la ejecución del algoritmo. Emplea gradient boosting con histogramas.\n",
        "\n",
        "#### Hiperparámetros\n",
        "\n",
        "1. Control del árbol:\n",
        "  - `num_leaves`\n",
        "  - `max_depth`\n",
        "  - `min_data_in_leaf`\n",
        "\n",
        "2. Mejor precisión:\n",
        "  - `n_estimators`\n",
        "  - `learning_rate`\n",
        "\n",
        "3. Controlar overfitting:\n",
        "  - `lambda_l1`\n",
        "  - `lambda_l2`\n",
        "  - `min_gain_to_split`\n",
        "\n",
        "\n",
        "### CatBoost\n",
        "\n",
        "Soporta variables categóricas.\n",
        "\n"
      ],
      "metadata": {
        "id": "8FF-2PwpXjJJ"
      }
    },
    {
      "cell_type": "code",
      "source": [
        "def boosting_implement(X_train, y_train, X_test, y_test):\n",
        "  dic_metrics = {'f1': [], \n",
        "                 'auc': [],\n",
        "                 'model':[]}\n",
        "  for modelo in [GradientBoostingClassifier(), AdaBoostClassifier(), HistGradientBoostingClassifier(), XGBClassifier(),CatBoostClassifier(silent=True), LGBMClassifier()]:\n",
        "    modelo.fit(X_train, y_train)\n",
        "    y_pred = modelo.predict(X_test)\n",
        "    dic_metrics['f1'].append(f1_score(y_test, y_pred))\n",
        "    dic_metrics['auc'].append(roc_auc_score(y_test, y_pred))\n",
        "    dic_metrics['model'].append(modelo)\n",
        "  \n",
        "  met_df = pd.DataFrame(dic_metrics).T\n",
        "  met_df.columns = [\"GradientBoostingClassifier\", \"AdaBoostClassifier\", \"HistGradientBoostingClassifier\", \"XGBClassifier\", \"CatBoostClassifier\", \"LGBMClassifier\"]\n",
        "  return dic_metrics"
      ],
      "metadata": {
        "id": "orQgxdGvXfuh"
      },
      "execution_count": null,
      "outputs": []
    },
    {
      "cell_type": "code",
      "source": [
        "dic_models = boosting_implement(X_train, y_train, X_test, y_test)"
      ],
      "metadata": {
        "id": "lF7bMFN8Yu0q"
      },
      "execution_count": null,
      "outputs": []
    },
    {
      "cell_type": "code",
      "source": [
        "import shap"
      ],
      "metadata": {
        "id": "K1K0Uj67qgzX"
      },
      "execution_count": null,
      "outputs": []
    },
    {
      "cell_type": "code",
      "source": [
        "explainer = shap.Explainer(dic_models['model'][4].predict, X_test)\n",
        "shap_values = explainer(X_test)"
      ],
      "metadata": {
        "id": "mplt8_tVrES4"
      },
      "execution_count": null,
      "outputs": []
    },
    {
      "cell_type": "code",
      "source": [
        "shap.plots.bar(shap_values)"
      ],
      "metadata": {
        "colab": {
          "base_uri": "https://localhost:8080/",
          "height": 364
        },
        "id": "QfMnpJD6rmPH",
        "outputId": "1876a4c7-6a44-4896-98f1-f877d7ab7330"
      },
      "execution_count": null,
      "outputs": [
        {
          "output_type": "display_data",
          "data": {
            "text/plain": [
              "<Figure size 576x396 with 1 Axes>"
            ],
            "image/png": "[encoded data removed]"
          },
          "metadata": {}
        }
      ]
    },
    {
      "cell_type": "code",
      "source": [
        "shap.plots.beeswarm(shap_values)"
      ],
      "metadata": {
        "colab": {
          "base_uri": "https://localhost:8080/",
          "height": 324
        },
        "id": "lRFd49Vcrtlh",
        "outputId": "a2ab8387-d1be-4aaa-e090-013a51520096"
      },
      "execution_count": null,
      "outputs": [
        {
          "output_type": "display_data",
          "data": {
            "text/plain": [
              "<Figure size 576x338.4 with 2 Axes>"
            ],
            "image/png": "[encoded data removed]"
          },
          "metadata": {
            "needs_background": "light"
          }
        }
      ]
    },
    {
      "cell_type": "code",
      "source": [],
      "metadata": {
        "id": "PJMCqHg6r-Hi"
      },
      "execution_count": null,
      "outputs": []
    }
  ]
}